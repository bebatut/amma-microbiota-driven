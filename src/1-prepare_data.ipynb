{
 "cells": [
  {
   "cell_type": "markdown",
   "metadata": {},
   "source": [
    "Prepare the data\n",
    "- Remove the columns with spurious data:\n",
    "- Remove the rows with only zeros\n",
    "- Rename the genes to be sure there is a map with Entrez Gene Identifers\n",
    "- Rename ages\n",
    "- Extract the metadata\n",
    "- Export the counts and metadata\n",
    "\n",
    "*Generated from a Jupyter Notebook - [Sources](https://github.com/bebatut/neuromac_GF_mices/blob/master/src/prepare_data.ipynb)*"
   ]
  },
  {
   "cell_type": "markdown",
   "metadata": {},
   "source": [
    "# Load"
   ]
  },
  {
   "cell_type": "code",
   "execution_count": 1,
   "metadata": {
    "scrolled": false
   },
   "outputs": [
    {
     "name": "stderr",
     "output_type": "stream",
     "text": [
      "Warning message:\n",
      "“package ‘gplots’ was built under R version 4.1.3”\n",
      "Warning message:\n",
      "“package ‘WGCNA’ was built under R version 4.1.3”\n"
     ]
    },
    {
     "name": "stdout",
     "output_type": "stream",
     "text": [
      "Allowing multi-threading with up to 8 threads.\n"
     ]
    },
    {
     "name": "stderr",
     "output_type": "stream",
     "text": [
      "Warning message:\n",
      "“package ‘reshape’ was built under R version 4.1.3”\n",
      "preparing gene to GO mapping data...\n",
      "\n",
      "preparing IC data...\n",
      "\n",
      "preparing gene to GO mapping data...\n",
      "\n",
      "preparing IC data...\n",
      "\n",
      "preparing gene to GO mapping data...\n",
      "\n",
      "preparing IC data...\n",
      "\n"
     ]
    }
   ],
   "source": [
    "source(\"load_libraries.R\")"
   ]
  },
  {
   "cell_type": "code",
   "execution_count": 2,
   "metadata": {},
   "outputs": [],
   "source": [
    "source(\"functions.R\")"
   ]
  },
  {
   "cell_type": "code",
   "execution_count": 3,
   "metadata": {},
   "outputs": [],
   "source": [
    "dp = \"../results/dge/\"\n",
    "dir.create(dp, showWarnings = FALSE)"
   ]
  },
  {
   "cell_type": "markdown",
   "metadata": {},
   "source": [
    "Load the gene length"
   ]
  },
  {
   "cell_type": "code",
   "execution_count": 4,
   "metadata": {},
   "outputs": [],
   "source": [
    "gene_length = read.table(\"../data/gene_length.tabular\", h = F, row.names = 1)\n",
    "save(gene_length, file=paste(dp, \"gene_length.RData\", sep=''))"
   ]
  },
  {
   "cell_type": "markdown",
   "metadata": {},
   "source": [
    "Load the count table"
   ]
  },
  {
   "cell_type": "code",
   "execution_count": 5,
   "metadata": {},
   "outputs": [
    {
     "data": {
      "text/html": [
       "<style>\n",
       ".list-inline {list-style: none; margin:0; padding: 0}\n",
       ".list-inline>li {display: inline-block}\n",
       ".list-inline>li:not(:last-child)::after {content: \"\\00b7\"; padding: 0 .5ex}\n",
       "</style>\n",
       "<ol class=list-inline><li>24421</li><li>64</li></ol>\n"
      ],
      "text/latex": [
       "\\begin{enumerate*}\n",
       "\\item 24421\n",
       "\\item 64\n",
       "\\end{enumerate*}\n"
      ],
      "text/markdown": [
       "1. 24421\n",
       "2. 64\n",
       "\n",
       "\n"
      ],
      "text/plain": [
       "[1] 24421    64"
      ]
     },
     "metadata": {},
     "output_type": "display_data"
    }
   ],
   "source": [
    "counts = read.table(\"../data/counts.tabular\", sep=\"\\t\", header = 1, row.names=1)\n",
    "dim(counts)"
   ]
  },
  {
   "cell_type": "markdown",
   "metadata": {},
   "source": [
    "# Extract metadata"
   ]
  },
  {
   "cell_type": "markdown",
   "metadata": {},
   "source": [
    "Extract the description of the samples"
   ]
  },
  {
   "cell_type": "code",
   "execution_count": 6,
   "metadata": {
    "scrolled": true
   },
   "outputs": [
    {
     "data": {
      "text/html": [
       "<style>\n",
       ".list-inline {list-style: none; margin:0; padding: 0}\n",
       ".list-inline>li {display: inline-block}\n",
       ".list-inline>li:not(:last-child)::after {content: \"\\00b7\"; padding: 0 .5ex}\n",
       "</style>\n",
       "<ol class=list-inline><li>64</li><li>10</li></ol>\n"
      ],
      "text/latex": [
       "\\begin{enumerate*}\n",
       "\\item 64\n",
       "\\item 10\n",
       "\\end{enumerate*}\n"
      ],
      "text/markdown": [
       "1. 64\n",
       "2. 10\n",
       "\n",
       "\n"
      ],
      "text/plain": [
       "[1] 64 10"
      ]
     },
     "metadata": {},
     "output_type": "display_data"
    },
    {
     "data": {
      "text/html": [
       "<table class=\"dataframe\">\n",
       "<caption>A data.frame: 6 × 10</caption>\n",
       "<thead>\n",
       "\t<tr><th></th><th scope=col>sample</th><th scope=col>Sample.name.prefix</th><th scope=col>Group</th><th scope=col>Age</th><th scope=col>Gender</th><th scope=col>Project.id</th><th scope=col>Lane</th><th scope=col>Replicate</th><th scope=col>Name.in.project</th><th scope=col>X..Reads</th></tr>\n",
       "\t<tr><th></th><th scope=col>&lt;chr&gt;</th><th scope=col>&lt;chr&gt;</th><th scope=col>&lt;chr&gt;</th><th scope=col>&lt;chr&gt;</th><th scope=col>&lt;chr&gt;</th><th scope=col>&lt;chr&gt;</th><th scope=col>&lt;chr&gt;</th><th scope=col>&lt;int&gt;</th><th scope=col>&lt;chr&gt;</th><th scope=col>&lt;chr&gt;</th></tr>\n",
       "</thead>\n",
       "<tbody>\n",
       "\t<tr><th scope=row>1</th><td>GF_52w_M_1</td><td>GF_52w_M</td><td>GF</td><td>52w</td><td>M</td><td>S148</td><td>2</td><td>1</td><td>Sample_Mg_GF1_old  </td><td>35,713,942.00</td></tr>\n",
       "\t<tr><th scope=row>2</th><td>GF_8w_M_1 </td><td>GF_8w_M </td><td>GF</td><td>8w </td><td>M</td><td>S148</td><td>2</td><td>1</td><td>Sample_Mg_GF1_young</td><td>25,919,398.00</td></tr>\n",
       "\t<tr><th scope=row>3</th><td>GF_52w_M_2</td><td>GF_52w_M</td><td>GF</td><td>52w</td><td>M</td><td>S148</td><td>2</td><td>2</td><td>Sample_Mg_GF2_old  </td><td>29,752,263.00</td></tr>\n",
       "\t<tr><th scope=row>4</th><td>GF_8w_M_2 </td><td>GF_8w_M </td><td>GF</td><td>8w </td><td>M</td><td>S148</td><td>2</td><td>2</td><td>Sample_Mg_GF2_young</td><td>24,133,081.00</td></tr>\n",
       "\t<tr><th scope=row>5</th><td>GF_52w_M_3</td><td>GF_52w_M</td><td>GF</td><td>52w</td><td>M</td><td>S148</td><td>3</td><td>3</td><td>Sample_Mg_GF3_old  </td><td>26,395,568.00</td></tr>\n",
       "\t<tr><th scope=row>6</th><td>GF_8w_M_3 </td><td>GF_8w_M </td><td>GF</td><td>8w </td><td>M</td><td>S148</td><td>1</td><td>3</td><td>Sample_Mg_GF3_young</td><td>33,992,780.00</td></tr>\n",
       "</tbody>\n",
       "</table>\n"
      ],
      "text/latex": [
       "A data.frame: 6 × 10\n",
       "\\begin{tabular}{r|llllllllll}\n",
       "  & sample & Sample.name.prefix & Group & Age & Gender & Project.id & Lane & Replicate & Name.in.project & X..Reads\\\\\n",
       "  & <chr> & <chr> & <chr> & <chr> & <chr> & <chr> & <chr> & <int> & <chr> & <chr>\\\\\n",
       "\\hline\n",
       "\t1 & GF\\_52w\\_M\\_1 & GF\\_52w\\_M & GF & 52w & M & S148 & 2 & 1 & Sample\\_Mg\\_GF1\\_old   & 35,713,942.00\\\\\n",
       "\t2 & GF\\_8w\\_M\\_1  & GF\\_8w\\_M  & GF & 8w  & M & S148 & 2 & 1 & Sample\\_Mg\\_GF1\\_young & 25,919,398.00\\\\\n",
       "\t3 & GF\\_52w\\_M\\_2 & GF\\_52w\\_M & GF & 52w & M & S148 & 2 & 2 & Sample\\_Mg\\_GF2\\_old   & 29,752,263.00\\\\\n",
       "\t4 & GF\\_8w\\_M\\_2  & GF\\_8w\\_M  & GF & 8w  & M & S148 & 2 & 2 & Sample\\_Mg\\_GF2\\_young & 24,133,081.00\\\\\n",
       "\t5 & GF\\_52w\\_M\\_3 & GF\\_52w\\_M & GF & 52w & M & S148 & 3 & 3 & Sample\\_Mg\\_GF3\\_old   & 26,395,568.00\\\\\n",
       "\t6 & GF\\_8w\\_M\\_3  & GF\\_8w\\_M  & GF & 8w  & M & S148 & 1 & 3 & Sample\\_Mg\\_GF3\\_young & 33,992,780.00\\\\\n",
       "\\end{tabular}\n"
      ],
      "text/markdown": [
       "\n",
       "A data.frame: 6 × 10\n",
       "\n",
       "| <!--/--> | sample &lt;chr&gt; | Sample.name.prefix &lt;chr&gt; | Group &lt;chr&gt; | Age &lt;chr&gt; | Gender &lt;chr&gt; | Project.id &lt;chr&gt; | Lane &lt;chr&gt; | Replicate &lt;int&gt; | Name.in.project &lt;chr&gt; | X..Reads &lt;chr&gt; |\n",
       "|---|---|---|---|---|---|---|---|---|---|---|\n",
       "| 1 | GF_52w_M_1 | GF_52w_M | GF | 52w | M | S148 | 2 | 1 | Sample_Mg_GF1_old   | 35,713,942.00 |\n",
       "| 2 | GF_8w_M_1  | GF_8w_M  | GF | 8w  | M | S148 | 2 | 1 | Sample_Mg_GF1_young | 25,919,398.00 |\n",
       "| 3 | GF_52w_M_2 | GF_52w_M | GF | 52w | M | S148 | 2 | 2 | Sample_Mg_GF2_old   | 29,752,263.00 |\n",
       "| 4 | GF_8w_M_2  | GF_8w_M  | GF | 8w  | M | S148 | 2 | 2 | Sample_Mg_GF2_young | 24,133,081.00 |\n",
       "| 5 | GF_52w_M_3 | GF_52w_M | GF | 52w | M | S148 | 3 | 3 | Sample_Mg_GF3_old   | 26,395,568.00 |\n",
       "| 6 | GF_8w_M_3  | GF_8w_M  | GF | 8w  | M | S148 | 1 | 3 | Sample_Mg_GF3_young | 33,992,780.00 |\n",
       "\n"
      ],
      "text/plain": [
       "  sample     Sample.name.prefix Group Age Gender Project.id Lane Replicate\n",
       "1 GF_52w_M_1 GF_52w_M           GF    52w M      S148       2    1        \n",
       "2 GF_8w_M_1  GF_8w_M            GF    8w  M      S148       2    1        \n",
       "3 GF_52w_M_2 GF_52w_M           GF    52w M      S148       2    2        \n",
       "4 GF_8w_M_2  GF_8w_M            GF    8w  M      S148       2    2        \n",
       "5 GF_52w_M_3 GF_52w_M           GF    52w M      S148       3    3        \n",
       "6 GF_8w_M_3  GF_8w_M            GF    8w  M      S148       1    3        \n",
       "  Name.in.project     X..Reads     \n",
       "1 Sample_Mg_GF1_old   35,713,942.00\n",
       "2 Sample_Mg_GF1_young 25,919,398.00\n",
       "3 Sample_Mg_GF2_old   29,752,263.00\n",
       "4 Sample_Mg_GF2_young 24,133,081.00\n",
       "5 Sample_Mg_GF3_old   26,395,568.00\n",
       "6 Sample_Mg_GF3_young 33,992,780.00"
      ]
     },
     "metadata": {},
     "output_type": "display_data"
    }
   ],
   "source": [
    "file_desc = read.csv(\"../data/file_description.csv\", row.names = 1) %>%\n",
    "            rownames_to_column('sample') %>%\n",
    "            slice(1:(n()-6)) %>%\n",
    "            mutate(Lane = gsub(\" & \", \"_\", Lane)) %>%\n",
    "            mutate(Lane = gsub(\" \", \"1\", Lane)) %>%\n",
    "            mutate(Project.id = gsub(\"Project_\", \"\", Project.id)) %>%\n",
    "            mutate(Project.id = gsub(\"148\", \"S148\", Project.id))\n",
    "dim(file_desc)\n",
    "head(file_desc)"
   ]
  },
  {
   "cell_type": "markdown",
   "metadata": {},
   "source": [
    "Extract the metadata:\n",
    "1. Extract from the counts\n",
    "2. Combine with the sample descriptions\n",
    "3. Rename the ages\n",
    "  - 8w to Young\n",
    "  - 52w to Middle-aged\n",
    "  - 104w to Old\n",
    "4. Rename the gender\n",
    "  - F to Female\n",
    "  - M to Male\n",
    "5. Rename the factors\n",
    "  - gender to Sex\n",
    "  - type to Microbiota\n",
    "  - age to Age"
   ]
  },
  {
   "cell_type": "code",
   "execution_count": 7,
   "metadata": {
    "scrolled": false
   },
   "outputs": [
    {
     "name": "stderr",
     "output_type": "stream",
     "text": [
      "Warning message:\n",
      "“The `x` argument of `as_tibble.matrix()` must have unique column names if `.name_repair` is omitted as of tibble 2.0.0.\n",
      "Using compatibility `.name_repair`.\n",
      "\u001b[90mThis warning is displayed once every 8 hours.\u001b[39m\n",
      "\u001b[90mCall `lifecycle::last_lifecycle_warnings()` to see where this warning was generated.\u001b[39m”\n",
      "`summarise()` has grouped output by 'Microbiota', 'Age'. You can override using the `.groups` argument.\n",
      "\n"
     ]
    },
    {
     "data": {
      "text/html": [
       "<table class=\"dataframe\">\n",
       "<caption>A grouped_df: 12 × 4</caption>\n",
       "<thead>\n",
       "\t<tr><th scope=col>Microbiota</th><th scope=col>Age</th><th scope=col>Sex</th><th scope=col>Number</th></tr>\n",
       "\t<tr><th scope=col>&lt;chr&gt;</th><th scope=col>&lt;chr&gt;</th><th scope=col>&lt;chr&gt;</th><th scope=col>&lt;int&gt;</th></tr>\n",
       "</thead>\n",
       "<tbody>\n",
       "\t<tr><td>GF </td><td>Middle-aged</td><td>Female</td><td> 6</td></tr>\n",
       "\t<tr><td>GF </td><td>Middle-aged</td><td>Male  </td><td> 4</td></tr>\n",
       "\t<tr><td>GF </td><td>Old        </td><td>Female</td><td> 3</td></tr>\n",
       "\t<tr><td>GF </td><td>Old        </td><td>Male  </td><td> 5</td></tr>\n",
       "\t<tr><td>GF </td><td>Young      </td><td>Female</td><td> 5</td></tr>\n",
       "\t<tr><td>GF </td><td>Young      </td><td>Male  </td><td> 4</td></tr>\n",
       "\t<tr><td>SPF</td><td>Middle-aged</td><td>Female</td><td> 6</td></tr>\n",
       "\t<tr><td>SPF</td><td>Middle-aged</td><td>Male  </td><td> 5</td></tr>\n",
       "\t<tr><td>SPF</td><td>Old        </td><td>Female</td><td> 3</td></tr>\n",
       "\t<tr><td>SPF</td><td>Old        </td><td>Male  </td><td>14</td></tr>\n",
       "\t<tr><td>SPF</td><td>Young      </td><td>Female</td><td> 5</td></tr>\n",
       "\t<tr><td>SPF</td><td>Young      </td><td>Male  </td><td> 4</td></tr>\n",
       "</tbody>\n",
       "</table>\n"
      ],
      "text/latex": [
       "A grouped\\_df: 12 × 4\n",
       "\\begin{tabular}{llll}\n",
       " Microbiota & Age & Sex & Number\\\\\n",
       " <chr> & <chr> & <chr> & <int>\\\\\n",
       "\\hline\n",
       "\t GF  & Middle-aged & Female &  6\\\\\n",
       "\t GF  & Middle-aged & Male   &  4\\\\\n",
       "\t GF  & Old         & Female &  3\\\\\n",
       "\t GF  & Old         & Male   &  5\\\\\n",
       "\t GF  & Young       & Female &  5\\\\\n",
       "\t GF  & Young       & Male   &  4\\\\\n",
       "\t SPF & Middle-aged & Female &  6\\\\\n",
       "\t SPF & Middle-aged & Male   &  5\\\\\n",
       "\t SPF & Old         & Female &  3\\\\\n",
       "\t SPF & Old         & Male   & 14\\\\\n",
       "\t SPF & Young       & Female &  5\\\\\n",
       "\t SPF & Young       & Male   &  4\\\\\n",
       "\\end{tabular}\n"
      ],
      "text/markdown": [
       "\n",
       "A grouped_df: 12 × 4\n",
       "\n",
       "| Microbiota &lt;chr&gt; | Age &lt;chr&gt; | Sex &lt;chr&gt; | Number &lt;int&gt; |\n",
       "|---|---|---|---|\n",
       "| GF  | Middle-aged | Female |  6 |\n",
       "| GF  | Middle-aged | Male   |  4 |\n",
       "| GF  | Old         | Female |  3 |\n",
       "| GF  | Old         | Male   |  5 |\n",
       "| GF  | Young       | Female |  5 |\n",
       "| GF  | Young       | Male   |  4 |\n",
       "| SPF | Middle-aged | Female |  6 |\n",
       "| SPF | Middle-aged | Male   |  5 |\n",
       "| SPF | Old         | Female |  3 |\n",
       "| SPF | Old         | Male   | 14 |\n",
       "| SPF | Young       | Female |  5 |\n",
       "| SPF | Young       | Male   |  4 |\n",
       "\n"
      ],
      "text/plain": [
       "   Microbiota Age         Sex    Number\n",
       "1  GF         Middle-aged Female  6    \n",
       "2  GF         Middle-aged Male    4    \n",
       "3  GF         Old         Female  3    \n",
       "4  GF         Old         Male    5    \n",
       "5  GF         Young       Female  5    \n",
       "6  GF         Young       Male    4    \n",
       "7  SPF        Middle-aged Female  6    \n",
       "8  SPF        Middle-aged Male    5    \n",
       "9  SPF        Old         Female  3    \n",
       "10 SPF        Old         Male   14    \n",
       "11 SPF        Young       Female  5    \n",
       "12 SPF        Young       Male    4    "
      ]
     },
     "metadata": {},
     "output_type": "display_data"
    },
    {
     "data": {
      "text/html": [
       "<table class=\"dataframe\">\n",
       "<caption>A tibble: 64 × 5</caption>\n",
       "<thead>\n",
       "\t<tr><th scope=col>Microbiota</th><th scope=col>Age</th><th scope=col>Sex</th><th scope=col>sample</th><th scope=col>project</th></tr>\n",
       "\t<tr><th scope=col>&lt;chr&gt;</th><th scope=col>&lt;chr&gt;</th><th scope=col>&lt;chr&gt;</th><th scope=col>&lt;chr&gt;</th><th scope=col>&lt;chr&gt;</th></tr>\n",
       "</thead>\n",
       "<tbody>\n",
       "\t<tr><td>GF </td><td>Old        </td><td>Female</td><td>GF_104w_F_1_2 </td><td>S264</td></tr>\n",
       "\t<tr><td>GF </td><td>Old        </td><td>Female</td><td>GF_104w_F_2_2 </td><td>S264</td></tr>\n",
       "\t<tr><td>GF </td><td>Old        </td><td>Female</td><td>GF_104w_F_3_2 </td><td>S264</td></tr>\n",
       "\t<tr><td>GF </td><td>Old        </td><td>Male  </td><td>GF_104w_M_1_2 </td><td>S264</td></tr>\n",
       "\t<tr><td>GF </td><td>Old        </td><td>Male  </td><td>GF_104w_M_2_2 </td><td>S264</td></tr>\n",
       "\t<tr><td>GF </td><td>Old        </td><td>Male  </td><td>GF_104w_M_3_2 </td><td>S288</td></tr>\n",
       "\t<tr><td>GF </td><td>Old        </td><td>Male  </td><td>GF_104w_M_4_2 </td><td>S288</td></tr>\n",
       "\t<tr><td>GF </td><td>Old        </td><td>Male  </td><td>GF_104w_M_5_2 </td><td>S288</td></tr>\n",
       "\t<tr><td>GF </td><td>Middle-aged</td><td>Female</td><td>GF_52w_F_1_2  </td><td>S178</td></tr>\n",
       "\t<tr><td>GF </td><td>Middle-aged</td><td>Female</td><td>GF_52w_F_2_2  </td><td>S178</td></tr>\n",
       "\t<tr><td>GF </td><td>Middle-aged</td><td>Female</td><td>GF_52w_F_3_2  </td><td>S178</td></tr>\n",
       "\t<tr><td>GF </td><td>Middle-aged</td><td>Female</td><td>GF_52w_F_4_2  </td><td>S178</td></tr>\n",
       "\t<tr><td>GF </td><td>Middle-aged</td><td>Female</td><td>GF_52w_F_5_2  </td><td>S178</td></tr>\n",
       "\t<tr><td>GF </td><td>Middle-aged</td><td>Female</td><td>GF_52w_F_6_2  </td><td>S178</td></tr>\n",
       "\t<tr><td>GF </td><td>Middle-aged</td><td>Male  </td><td>GF_52w_M_1_2  </td><td>S148</td></tr>\n",
       "\t<tr><td>GF </td><td>Middle-aged</td><td>Male  </td><td>GF_52w_M_2_2  </td><td>S148</td></tr>\n",
       "\t<tr><td>GF </td><td>Middle-aged</td><td>Male  </td><td>GF_52w_M_3_2  </td><td>S148</td></tr>\n",
       "\t<tr><td>GF </td><td>Middle-aged</td><td>Male  </td><td>GF_52w_M_4_2  </td><td>S148</td></tr>\n",
       "\t<tr><td>GF </td><td>Young      </td><td>Female</td><td>GF_8w_F_1_2   </td><td>S225</td></tr>\n",
       "\t<tr><td>GF </td><td>Young      </td><td>Female</td><td>GF_8w_F_2_2   </td><td>S225</td></tr>\n",
       "\t<tr><td>GF </td><td>Young      </td><td>Female</td><td>GF_8w_F_3_2   </td><td>S225</td></tr>\n",
       "\t<tr><td>GF </td><td>Young      </td><td>Female</td><td>GF_8w_F_4_2   </td><td>S225</td></tr>\n",
       "\t<tr><td>GF </td><td>Young      </td><td>Female</td><td>GF_8w_F_5_2   </td><td>S225</td></tr>\n",
       "\t<tr><td>GF </td><td>Young      </td><td>Male  </td><td>GF_8w_M_1_2   </td><td>S148</td></tr>\n",
       "\t<tr><td>GF </td><td>Young      </td><td>Male  </td><td>GF_8w_M_2_2   </td><td>S148</td></tr>\n",
       "\t<tr><td>GF </td><td>Young      </td><td>Male  </td><td>GF_8w_M_3_2   </td><td>S148</td></tr>\n",
       "\t<tr><td>GF </td><td>Young      </td><td>Male  </td><td>GF_8w_M_4_2   </td><td>S148</td></tr>\n",
       "\t<tr><td>SPF</td><td>Old        </td><td>Female</td><td>SPF_104w_F_1_2</td><td>S174</td></tr>\n",
       "\t<tr><td>SPF</td><td>Old        </td><td>Female</td><td>SPF_104w_F_2_2</td><td>S174</td></tr>\n",
       "\t<tr><td>SPF</td><td>Old        </td><td>Female</td><td>SPF_104w_F_3_2</td><td>S174</td></tr>\n",
       "\t<tr><td>⋮</td><td>⋮</td><td>⋮</td><td>⋮</td><td>⋮</td></tr>\n",
       "\t<tr><td>SPF</td><td>Old        </td><td>Male  </td><td>SPF_104w_M_13_2</td><td>S198</td></tr>\n",
       "\t<tr><td>SPF</td><td>Old        </td><td>Male  </td><td>SPF_104w_M_14_2</td><td>S198</td></tr>\n",
       "\t<tr><td>SPF</td><td>Old        </td><td>Male  </td><td>SPF_104w_M_2_2 </td><td>S174</td></tr>\n",
       "\t<tr><td>SPF</td><td>Old        </td><td>Male  </td><td>SPF_104w_M_3_2 </td><td>S174</td></tr>\n",
       "\t<tr><td>SPF</td><td>Old        </td><td>Male  </td><td>SPF_104w_M_4_2 </td><td>S174</td></tr>\n",
       "\t<tr><td>SPF</td><td>Old        </td><td>Male  </td><td>SPF_104w_M_5_2 </td><td>S198</td></tr>\n",
       "\t<tr><td>SPF</td><td>Old        </td><td>Male  </td><td>SPF_104w_M_6_2 </td><td>S198</td></tr>\n",
       "\t<tr><td>SPF</td><td>Old        </td><td>Male  </td><td>SPF_104w_M_7_2 </td><td>S198</td></tr>\n",
       "\t<tr><td>SPF</td><td>Old        </td><td>Male  </td><td>SPF_104w_M_8_2 </td><td>S198</td></tr>\n",
       "\t<tr><td>SPF</td><td>Old        </td><td>Male  </td><td>SPF_104w_M_9_2 </td><td>S198</td></tr>\n",
       "\t<tr><td>SPF</td><td>Middle-aged</td><td>Female</td><td>SPF_52w_F_1_2  </td><td>S178</td></tr>\n",
       "\t<tr><td>SPF</td><td>Middle-aged</td><td>Female</td><td>SPF_52w_F_2_2  </td><td>S178</td></tr>\n",
       "\t<tr><td>SPF</td><td>Middle-aged</td><td>Female</td><td>SPF_52w_F_3_2  </td><td>S178</td></tr>\n",
       "\t<tr><td>SPF</td><td>Middle-aged</td><td>Female</td><td>SPF_52w_F_4_2  </td><td>S178</td></tr>\n",
       "\t<tr><td>SPF</td><td>Middle-aged</td><td>Female</td><td>SPF_52w_F_5_2  </td><td>S178</td></tr>\n",
       "\t<tr><td>SPF</td><td>Middle-aged</td><td>Female</td><td>SPF_52w_F_6_2  </td><td>S178</td></tr>\n",
       "\t<tr><td>SPF</td><td>Middle-aged</td><td>Male  </td><td>SPF_52w_M_1_2  </td><td>S148</td></tr>\n",
       "\t<tr><td>SPF</td><td>Middle-aged</td><td>Male  </td><td>SPF_52w_M_2_2  </td><td>S148</td></tr>\n",
       "\t<tr><td>SPF</td><td>Middle-aged</td><td>Male  </td><td>SPF_52w_M_3_2  </td><td>S148</td></tr>\n",
       "\t<tr><td>SPF</td><td>Middle-aged</td><td>Male  </td><td>SPF_52w_M_4_2  </td><td>S148</td></tr>\n",
       "\t<tr><td>SPF</td><td>Middle-aged</td><td>Male  </td><td>SPF_52w_M_5_2  </td><td>S148</td></tr>\n",
       "\t<tr><td>SPF</td><td>Young      </td><td>Female</td><td>SPF_8w_F_1_2   </td><td>S225</td></tr>\n",
       "\t<tr><td>SPF</td><td>Young      </td><td>Female</td><td>SPF_8w_F_2_2   </td><td>S225</td></tr>\n",
       "\t<tr><td>SPF</td><td>Young      </td><td>Female</td><td>SPF_8w_F_3_2   </td><td>S225</td></tr>\n",
       "\t<tr><td>SPF</td><td>Young      </td><td>Female</td><td>SPF_8w_F_4_2   </td><td>S225</td></tr>\n",
       "\t<tr><td>SPF</td><td>Young      </td><td>Female</td><td>SPF_8w_F_5_2   </td><td>S225</td></tr>\n",
       "\t<tr><td>SPF</td><td>Young      </td><td>Male  </td><td>SPF_8w_M_1_2   </td><td>S148</td></tr>\n",
       "\t<tr><td>SPF</td><td>Young      </td><td>Male  </td><td>SPF_8w_M_2_2   </td><td>S148</td></tr>\n",
       "\t<tr><td>SPF</td><td>Young      </td><td>Male  </td><td>SPF_8w_M_3_2   </td><td>S148</td></tr>\n",
       "\t<tr><td>SPF</td><td>Young      </td><td>Male  </td><td>SPF_8w_M_4_2   </td><td>S148</td></tr>\n",
       "</tbody>\n",
       "</table>\n"
      ],
      "text/latex": [
       "A tibble: 64 × 5\n",
       "\\begin{tabular}{lllll}\n",
       " Microbiota & Age & Sex & sample & project\\\\\n",
       " <chr> & <chr> & <chr> & <chr> & <chr>\\\\\n",
       "\\hline\n",
       "\t GF  & Old         & Female & GF\\_104w\\_F\\_1\\_2  & S264\\\\\n",
       "\t GF  & Old         & Female & GF\\_104w\\_F\\_2\\_2  & S264\\\\\n",
       "\t GF  & Old         & Female & GF\\_104w\\_F\\_3\\_2  & S264\\\\\n",
       "\t GF  & Old         & Male   & GF\\_104w\\_M\\_1\\_2  & S264\\\\\n",
       "\t GF  & Old         & Male   & GF\\_104w\\_M\\_2\\_2  & S264\\\\\n",
       "\t GF  & Old         & Male   & GF\\_104w\\_M\\_3\\_2  & S288\\\\\n",
       "\t GF  & Old         & Male   & GF\\_104w\\_M\\_4\\_2  & S288\\\\\n",
       "\t GF  & Old         & Male   & GF\\_104w\\_M\\_5\\_2  & S288\\\\\n",
       "\t GF  & Middle-aged & Female & GF\\_52w\\_F\\_1\\_2   & S178\\\\\n",
       "\t GF  & Middle-aged & Female & GF\\_52w\\_F\\_2\\_2   & S178\\\\\n",
       "\t GF  & Middle-aged & Female & GF\\_52w\\_F\\_3\\_2   & S178\\\\\n",
       "\t GF  & Middle-aged & Female & GF\\_52w\\_F\\_4\\_2   & S178\\\\\n",
       "\t GF  & Middle-aged & Female & GF\\_52w\\_F\\_5\\_2   & S178\\\\\n",
       "\t GF  & Middle-aged & Female & GF\\_52w\\_F\\_6\\_2   & S178\\\\\n",
       "\t GF  & Middle-aged & Male   & GF\\_52w\\_M\\_1\\_2   & S148\\\\\n",
       "\t GF  & Middle-aged & Male   & GF\\_52w\\_M\\_2\\_2   & S148\\\\\n",
       "\t GF  & Middle-aged & Male   & GF\\_52w\\_M\\_3\\_2   & S148\\\\\n",
       "\t GF  & Middle-aged & Male   & GF\\_52w\\_M\\_4\\_2   & S148\\\\\n",
       "\t GF  & Young       & Female & GF\\_8w\\_F\\_1\\_2    & S225\\\\\n",
       "\t GF  & Young       & Female & GF\\_8w\\_F\\_2\\_2    & S225\\\\\n",
       "\t GF  & Young       & Female & GF\\_8w\\_F\\_3\\_2    & S225\\\\\n",
       "\t GF  & Young       & Female & GF\\_8w\\_F\\_4\\_2    & S225\\\\\n",
       "\t GF  & Young       & Female & GF\\_8w\\_F\\_5\\_2    & S225\\\\\n",
       "\t GF  & Young       & Male   & GF\\_8w\\_M\\_1\\_2    & S148\\\\\n",
       "\t GF  & Young       & Male   & GF\\_8w\\_M\\_2\\_2    & S148\\\\\n",
       "\t GF  & Young       & Male   & GF\\_8w\\_M\\_3\\_2    & S148\\\\\n",
       "\t GF  & Young       & Male   & GF\\_8w\\_M\\_4\\_2    & S148\\\\\n",
       "\t SPF & Old         & Female & SPF\\_104w\\_F\\_1\\_2 & S174\\\\\n",
       "\t SPF & Old         & Female & SPF\\_104w\\_F\\_2\\_2 & S174\\\\\n",
       "\t SPF & Old         & Female & SPF\\_104w\\_F\\_3\\_2 & S174\\\\\n",
       "\t ⋮ & ⋮ & ⋮ & ⋮ & ⋮\\\\\n",
       "\t SPF & Old         & Male   & SPF\\_104w\\_M\\_13\\_2 & S198\\\\\n",
       "\t SPF & Old         & Male   & SPF\\_104w\\_M\\_14\\_2 & S198\\\\\n",
       "\t SPF & Old         & Male   & SPF\\_104w\\_M\\_2\\_2  & S174\\\\\n",
       "\t SPF & Old         & Male   & SPF\\_104w\\_M\\_3\\_2  & S174\\\\\n",
       "\t SPF & Old         & Male   & SPF\\_104w\\_M\\_4\\_2  & S174\\\\\n",
       "\t SPF & Old         & Male   & SPF\\_104w\\_M\\_5\\_2  & S198\\\\\n",
       "\t SPF & Old         & Male   & SPF\\_104w\\_M\\_6\\_2  & S198\\\\\n",
       "\t SPF & Old         & Male   & SPF\\_104w\\_M\\_7\\_2  & S198\\\\\n",
       "\t SPF & Old         & Male   & SPF\\_104w\\_M\\_8\\_2  & S198\\\\\n",
       "\t SPF & Old         & Male   & SPF\\_104w\\_M\\_9\\_2  & S198\\\\\n",
       "\t SPF & Middle-aged & Female & SPF\\_52w\\_F\\_1\\_2   & S178\\\\\n",
       "\t SPF & Middle-aged & Female & SPF\\_52w\\_F\\_2\\_2   & S178\\\\\n",
       "\t SPF & Middle-aged & Female & SPF\\_52w\\_F\\_3\\_2   & S178\\\\\n",
       "\t SPF & Middle-aged & Female & SPF\\_52w\\_F\\_4\\_2   & S178\\\\\n",
       "\t SPF & Middle-aged & Female & SPF\\_52w\\_F\\_5\\_2   & S178\\\\\n",
       "\t SPF & Middle-aged & Female & SPF\\_52w\\_F\\_6\\_2   & S178\\\\\n",
       "\t SPF & Middle-aged & Male   & SPF\\_52w\\_M\\_1\\_2   & S148\\\\\n",
       "\t SPF & Middle-aged & Male   & SPF\\_52w\\_M\\_2\\_2   & S148\\\\\n",
       "\t SPF & Middle-aged & Male   & SPF\\_52w\\_M\\_3\\_2   & S148\\\\\n",
       "\t SPF & Middle-aged & Male   & SPF\\_52w\\_M\\_4\\_2   & S148\\\\\n",
       "\t SPF & Middle-aged & Male   & SPF\\_52w\\_M\\_5\\_2   & S148\\\\\n",
       "\t SPF & Young       & Female & SPF\\_8w\\_F\\_1\\_2    & S225\\\\\n",
       "\t SPF & Young       & Female & SPF\\_8w\\_F\\_2\\_2    & S225\\\\\n",
       "\t SPF & Young       & Female & SPF\\_8w\\_F\\_3\\_2    & S225\\\\\n",
       "\t SPF & Young       & Female & SPF\\_8w\\_F\\_4\\_2    & S225\\\\\n",
       "\t SPF & Young       & Female & SPF\\_8w\\_F\\_5\\_2    & S225\\\\\n",
       "\t SPF & Young       & Male   & SPF\\_8w\\_M\\_1\\_2    & S148\\\\\n",
       "\t SPF & Young       & Male   & SPF\\_8w\\_M\\_2\\_2    & S148\\\\\n",
       "\t SPF & Young       & Male   & SPF\\_8w\\_M\\_3\\_2    & S148\\\\\n",
       "\t SPF & Young       & Male   & SPF\\_8w\\_M\\_4\\_2    & S148\\\\\n",
       "\\end{tabular}\n"
      ],
      "text/markdown": [
       "\n",
       "A tibble: 64 × 5\n",
       "\n",
       "| Microbiota &lt;chr&gt; | Age &lt;chr&gt; | Sex &lt;chr&gt; | sample &lt;chr&gt; | project &lt;chr&gt; |\n",
       "|---|---|---|---|---|\n",
       "| GF  | Old         | Female | GF_104w_F_1_2  | S264 |\n",
       "| GF  | Old         | Female | GF_104w_F_2_2  | S264 |\n",
       "| GF  | Old         | Female | GF_104w_F_3_2  | S264 |\n",
       "| GF  | Old         | Male   | GF_104w_M_1_2  | S264 |\n",
       "| GF  | Old         | Male   | GF_104w_M_2_2  | S264 |\n",
       "| GF  | Old         | Male   | GF_104w_M_3_2  | S288 |\n",
       "| GF  | Old         | Male   | GF_104w_M_4_2  | S288 |\n",
       "| GF  | Old         | Male   | GF_104w_M_5_2  | S288 |\n",
       "| GF  | Middle-aged | Female | GF_52w_F_1_2   | S178 |\n",
       "| GF  | Middle-aged | Female | GF_52w_F_2_2   | S178 |\n",
       "| GF  | Middle-aged | Female | GF_52w_F_3_2   | S178 |\n",
       "| GF  | Middle-aged | Female | GF_52w_F_4_2   | S178 |\n",
       "| GF  | Middle-aged | Female | GF_52w_F_5_2   | S178 |\n",
       "| GF  | Middle-aged | Female | GF_52w_F_6_2   | S178 |\n",
       "| GF  | Middle-aged | Male   | GF_52w_M_1_2   | S148 |\n",
       "| GF  | Middle-aged | Male   | GF_52w_M_2_2   | S148 |\n",
       "| GF  | Middle-aged | Male   | GF_52w_M_3_2   | S148 |\n",
       "| GF  | Middle-aged | Male   | GF_52w_M_4_2   | S148 |\n",
       "| GF  | Young       | Female | GF_8w_F_1_2    | S225 |\n",
       "| GF  | Young       | Female | GF_8w_F_2_2    | S225 |\n",
       "| GF  | Young       | Female | GF_8w_F_3_2    | S225 |\n",
       "| GF  | Young       | Female | GF_8w_F_4_2    | S225 |\n",
       "| GF  | Young       | Female | GF_8w_F_5_2    | S225 |\n",
       "| GF  | Young       | Male   | GF_8w_M_1_2    | S148 |\n",
       "| GF  | Young       | Male   | GF_8w_M_2_2    | S148 |\n",
       "| GF  | Young       | Male   | GF_8w_M_3_2    | S148 |\n",
       "| GF  | Young       | Male   | GF_8w_M_4_2    | S148 |\n",
       "| SPF | Old         | Female | SPF_104w_F_1_2 | S174 |\n",
       "| SPF | Old         | Female | SPF_104w_F_2_2 | S174 |\n",
       "| SPF | Old         | Female | SPF_104w_F_3_2 | S174 |\n",
       "| ⋮ | ⋮ | ⋮ | ⋮ | ⋮ |\n",
       "| SPF | Old         | Male   | SPF_104w_M_13_2 | S198 |\n",
       "| SPF | Old         | Male   | SPF_104w_M_14_2 | S198 |\n",
       "| SPF | Old         | Male   | SPF_104w_M_2_2  | S174 |\n",
       "| SPF | Old         | Male   | SPF_104w_M_3_2  | S174 |\n",
       "| SPF | Old         | Male   | SPF_104w_M_4_2  | S174 |\n",
       "| SPF | Old         | Male   | SPF_104w_M_5_2  | S198 |\n",
       "| SPF | Old         | Male   | SPF_104w_M_6_2  | S198 |\n",
       "| SPF | Old         | Male   | SPF_104w_M_7_2  | S198 |\n",
       "| SPF | Old         | Male   | SPF_104w_M_8_2  | S198 |\n",
       "| SPF | Old         | Male   | SPF_104w_M_9_2  | S198 |\n",
       "| SPF | Middle-aged | Female | SPF_52w_F_1_2   | S178 |\n",
       "| SPF | Middle-aged | Female | SPF_52w_F_2_2   | S178 |\n",
       "| SPF | Middle-aged | Female | SPF_52w_F_3_2   | S178 |\n",
       "| SPF | Middle-aged | Female | SPF_52w_F_4_2   | S178 |\n",
       "| SPF | Middle-aged | Female | SPF_52w_F_5_2   | S178 |\n",
       "| SPF | Middle-aged | Female | SPF_52w_F_6_2   | S178 |\n",
       "| SPF | Middle-aged | Male   | SPF_52w_M_1_2   | S148 |\n",
       "| SPF | Middle-aged | Male   | SPF_52w_M_2_2   | S148 |\n",
       "| SPF | Middle-aged | Male   | SPF_52w_M_3_2   | S148 |\n",
       "| SPF | Middle-aged | Male   | SPF_52w_M_4_2   | S148 |\n",
       "| SPF | Middle-aged | Male   | SPF_52w_M_5_2   | S148 |\n",
       "| SPF | Young       | Female | SPF_8w_F_1_2    | S225 |\n",
       "| SPF | Young       | Female | SPF_8w_F_2_2    | S225 |\n",
       "| SPF | Young       | Female | SPF_8w_F_3_2    | S225 |\n",
       "| SPF | Young       | Female | SPF_8w_F_4_2    | S225 |\n",
       "| SPF | Young       | Female | SPF_8w_F_5_2    | S225 |\n",
       "| SPF | Young       | Male   | SPF_8w_M_1_2    | S148 |\n",
       "| SPF | Young       | Male   | SPF_8w_M_2_2    | S148 |\n",
       "| SPF | Young       | Male   | SPF_8w_M_3_2    | S148 |\n",
       "| SPF | Young       | Male   | SPF_8w_M_4_2    | S148 |\n",
       "\n"
      ],
      "text/plain": [
       "   Microbiota Age         Sex    sample          project\n",
       "1  GF         Old         Female GF_104w_F_1_2   S264   \n",
       "2  GF         Old         Female GF_104w_F_2_2   S264   \n",
       "3  GF         Old         Female GF_104w_F_3_2   S264   \n",
       "4  GF         Old         Male   GF_104w_M_1_2   S264   \n",
       "5  GF         Old         Male   GF_104w_M_2_2   S264   \n",
       "6  GF         Old         Male   GF_104w_M_3_2   S288   \n",
       "7  GF         Old         Male   GF_104w_M_4_2   S288   \n",
       "8  GF         Old         Male   GF_104w_M_5_2   S288   \n",
       "9  GF         Middle-aged Female GF_52w_F_1_2    S178   \n",
       "10 GF         Middle-aged Female GF_52w_F_2_2    S178   \n",
       "11 GF         Middle-aged Female GF_52w_F_3_2    S178   \n",
       "12 GF         Middle-aged Female GF_52w_F_4_2    S178   \n",
       "13 GF         Middle-aged Female GF_52w_F_5_2    S178   \n",
       "14 GF         Middle-aged Female GF_52w_F_6_2    S178   \n",
       "15 GF         Middle-aged Male   GF_52w_M_1_2    S148   \n",
       "16 GF         Middle-aged Male   GF_52w_M_2_2    S148   \n",
       "17 GF         Middle-aged Male   GF_52w_M_3_2    S148   \n",
       "18 GF         Middle-aged Male   GF_52w_M_4_2    S148   \n",
       "19 GF         Young       Female GF_8w_F_1_2     S225   \n",
       "20 GF         Young       Female GF_8w_F_2_2     S225   \n",
       "21 GF         Young       Female GF_8w_F_3_2     S225   \n",
       "22 GF         Young       Female GF_8w_F_4_2     S225   \n",
       "23 GF         Young       Female GF_8w_F_5_2     S225   \n",
       "24 GF         Young       Male   GF_8w_M_1_2     S148   \n",
       "25 GF         Young       Male   GF_8w_M_2_2     S148   \n",
       "26 GF         Young       Male   GF_8w_M_3_2     S148   \n",
       "27 GF         Young       Male   GF_8w_M_4_2     S148   \n",
       "28 SPF        Old         Female SPF_104w_F_1_2  S174   \n",
       "29 SPF        Old         Female SPF_104w_F_2_2  S174   \n",
       "30 SPF        Old         Female SPF_104w_F_3_2  S174   \n",
       "⋮  ⋮          ⋮           ⋮      ⋮               ⋮      \n",
       "35 SPF        Old         Male   SPF_104w_M_13_2 S198   \n",
       "36 SPF        Old         Male   SPF_104w_M_14_2 S198   \n",
       "37 SPF        Old         Male   SPF_104w_M_2_2  S174   \n",
       "38 SPF        Old         Male   SPF_104w_M_3_2  S174   \n",
       "39 SPF        Old         Male   SPF_104w_M_4_2  S174   \n",
       "40 SPF        Old         Male   SPF_104w_M_5_2  S198   \n",
       "41 SPF        Old         Male   SPF_104w_M_6_2  S198   \n",
       "42 SPF        Old         Male   SPF_104w_M_7_2  S198   \n",
       "43 SPF        Old         Male   SPF_104w_M_8_2  S198   \n",
       "44 SPF        Old         Male   SPF_104w_M_9_2  S198   \n",
       "45 SPF        Middle-aged Female SPF_52w_F_1_2   S178   \n",
       "46 SPF        Middle-aged Female SPF_52w_F_2_2   S178   \n",
       "47 SPF        Middle-aged Female SPF_52w_F_3_2   S178   \n",
       "48 SPF        Middle-aged Female SPF_52w_F_4_2   S178   \n",
       "49 SPF        Middle-aged Female SPF_52w_F_5_2   S178   \n",
       "50 SPF        Middle-aged Female SPF_52w_F_6_2   S178   \n",
       "51 SPF        Middle-aged Male   SPF_52w_M_1_2   S148   \n",
       "52 SPF        Middle-aged Male   SPF_52w_M_2_2   S148   \n",
       "53 SPF        Middle-aged Male   SPF_52w_M_3_2   S148   \n",
       "54 SPF        Middle-aged Male   SPF_52w_M_4_2   S148   \n",
       "55 SPF        Middle-aged Male   SPF_52w_M_5_2   S148   \n",
       "56 SPF        Young       Female SPF_8w_F_1_2    S225   \n",
       "57 SPF        Young       Female SPF_8w_F_2_2    S225   \n",
       "58 SPF        Young       Female SPF_8w_F_3_2    S225   \n",
       "59 SPF        Young       Female SPF_8w_F_4_2    S225   \n",
       "60 SPF        Young       Female SPF_8w_F_5_2    S225   \n",
       "61 SPF        Young       Male   SPF_8w_M_1_2    S148   \n",
       "62 SPF        Young       Male   SPF_8w_M_2_2    S148   \n",
       "63 SPF        Young       Male   SPF_8w_M_3_2    S148   \n",
       "64 SPF        Young       Male   SPF_8w_M_4_2    S148   "
      ]
     },
     "metadata": {},
     "output_type": "display_data"
    }
   ],
   "source": [
    "metadata = as_tibble(t(sapply(sapply(colnames(counts), strsplit, split = \"_\"), unlist))) %>%\n",
    "   magrittr::set_colnames(c(\"Microbiota\", \"Age\", \"Sex\", \"Replicate\", \"extra\")) %>%\n",
    "   mutate(sample = paste(Microbiota, Age, Sex, Replicate, extra, sep =\"_\")) %>%\n",
    "   select(-extra) %>%\n",
    "   mutate(short_name = paste(Microbiota, Age, Sex, Replicate, sep =\"_\")) %>%\n",
    "   select(-Replicate) %>%\n",
    "   arrange(short_name) \n",
    "projects = file_desc %>%\n",
    "   filter(sample %in% metadata$short_name) %>%\n",
    "   arrange(sample) %>%\n",
    "   pull(\"Project.id\")\n",
    "metadata = metadata %>%\n",
    "    mutate(project = projects) %>%\n",
    "    select(-short_name) %>%\n",
    "    mutate(Age = gsub(\"104w\", \"Old\", Age )) %>%\n",
    "    mutate(Age = gsub(\"52w\", \"Middle-aged\", Age )) %>%\n",
    "    mutate(Age = gsub(\"8w\", \"Young\", Age )) %>%\n",
    "    mutate(Sex = gsub(\"F\", \"Female\", Sex )) %>%\n",
    "    mutate(Sex = gsub(\"M\", \"Male\", Sex))\n",
    "metadata %>%\n",
    "    group_by(Microbiota, Age, Sex)  %>% \n",
    "    summarise(Number = n())\n",
    "metadata"
   ]
  },
  {
   "cell_type": "markdown",
   "metadata": {},
   "source": [
    "# Keep interesting samples"
   ]
  },
  {
   "cell_type": "markdown",
   "metadata": {},
   "source": [
    "Samples to keep :\n",
    "- SPF / GF\n",
    "- young / old\n",
    "- male\n",
    "\n",
    "In addition\n",
    "- Remove the columns with spurious data:\n",
    "    - SPF_8w_F_2_2: low mapping rate (70.9%) and assignment rate (31.3%)\n",
    "    - SPF_8w_F_5_2: low assignment rate (53.5%)\n",
    "    - SPF_8w_M_1_2: low number of assigned reads (14.4)"
   ]
  },
  {
   "cell_type": "code",
   "execution_count": 8,
   "metadata": {},
   "outputs": [
    {
     "data": {
      "text/html": [
       "<table class=\"dataframe\">\n",
       "<caption>A tibble: 26 × 4</caption>\n",
       "<thead>\n",
       "\t<tr><th scope=col>Microbiota</th><th scope=col>Age</th><th scope=col>sample</th><th scope=col>project</th></tr>\n",
       "\t<tr><th scope=col>&lt;chr&gt;</th><th scope=col>&lt;chr&gt;</th><th scope=col>&lt;chr&gt;</th><th scope=col>&lt;chr&gt;</th></tr>\n",
       "</thead>\n",
       "<tbody>\n",
       "\t<tr><td>GF </td><td>Old  </td><td>GF_104w_M_1_2  </td><td>S264</td></tr>\n",
       "\t<tr><td>GF </td><td>Old  </td><td>GF_104w_M_2_2  </td><td>S264</td></tr>\n",
       "\t<tr><td>GF </td><td>Old  </td><td>GF_104w_M_3_2  </td><td>S288</td></tr>\n",
       "\t<tr><td>GF </td><td>Old  </td><td>GF_104w_M_4_2  </td><td>S288</td></tr>\n",
       "\t<tr><td>GF </td><td>Old  </td><td>GF_104w_M_5_2  </td><td>S288</td></tr>\n",
       "\t<tr><td>GF </td><td>Young</td><td>GF_8w_M_1_2    </td><td>S148</td></tr>\n",
       "\t<tr><td>GF </td><td>Young</td><td>GF_8w_M_2_2    </td><td>S148</td></tr>\n",
       "\t<tr><td>GF </td><td>Young</td><td>GF_8w_M_3_2    </td><td>S148</td></tr>\n",
       "\t<tr><td>GF </td><td>Young</td><td>GF_8w_M_4_2    </td><td>S148</td></tr>\n",
       "\t<tr><td>SPF</td><td>Old  </td><td>SPF_104w_M_1_2 </td><td>S174</td></tr>\n",
       "\t<tr><td>SPF</td><td>Old  </td><td>SPF_104w_M_10_2</td><td>S198</td></tr>\n",
       "\t<tr><td>SPF</td><td>Old  </td><td>SPF_104w_M_11_2</td><td>S198</td></tr>\n",
       "\t<tr><td>SPF</td><td>Old  </td><td>SPF_104w_M_12_2</td><td>S198</td></tr>\n",
       "\t<tr><td>SPF</td><td>Old  </td><td>SPF_104w_M_13_2</td><td>S198</td></tr>\n",
       "\t<tr><td>SPF</td><td>Old  </td><td>SPF_104w_M_14_2</td><td>S198</td></tr>\n",
       "\t<tr><td>SPF</td><td>Old  </td><td>SPF_104w_M_2_2 </td><td>S174</td></tr>\n",
       "\t<tr><td>SPF</td><td>Old  </td><td>SPF_104w_M_3_2 </td><td>S174</td></tr>\n",
       "\t<tr><td>SPF</td><td>Old  </td><td>SPF_104w_M_4_2 </td><td>S174</td></tr>\n",
       "\t<tr><td>SPF</td><td>Old  </td><td>SPF_104w_M_5_2 </td><td>S198</td></tr>\n",
       "\t<tr><td>SPF</td><td>Old  </td><td>SPF_104w_M_6_2 </td><td>S198</td></tr>\n",
       "\t<tr><td>SPF</td><td>Old  </td><td>SPF_104w_M_7_2 </td><td>S198</td></tr>\n",
       "\t<tr><td>SPF</td><td>Old  </td><td>SPF_104w_M_8_2 </td><td>S198</td></tr>\n",
       "\t<tr><td>SPF</td><td>Old  </td><td>SPF_104w_M_9_2 </td><td>S198</td></tr>\n",
       "\t<tr><td>SPF</td><td>Young</td><td>SPF_8w_M_2_2   </td><td>S148</td></tr>\n",
       "\t<tr><td>SPF</td><td>Young</td><td>SPF_8w_M_3_2   </td><td>S148</td></tr>\n",
       "\t<tr><td>SPF</td><td>Young</td><td>SPF_8w_M_4_2   </td><td>S148</td></tr>\n",
       "</tbody>\n",
       "</table>\n"
      ],
      "text/latex": [
       "A tibble: 26 × 4\n",
       "\\begin{tabular}{llll}\n",
       " Microbiota & Age & sample & project\\\\\n",
       " <chr> & <chr> & <chr> & <chr>\\\\\n",
       "\\hline\n",
       "\t GF  & Old   & GF\\_104w\\_M\\_1\\_2   & S264\\\\\n",
       "\t GF  & Old   & GF\\_104w\\_M\\_2\\_2   & S264\\\\\n",
       "\t GF  & Old   & GF\\_104w\\_M\\_3\\_2   & S288\\\\\n",
       "\t GF  & Old   & GF\\_104w\\_M\\_4\\_2   & S288\\\\\n",
       "\t GF  & Old   & GF\\_104w\\_M\\_5\\_2   & S288\\\\\n",
       "\t GF  & Young & GF\\_8w\\_M\\_1\\_2     & S148\\\\\n",
       "\t GF  & Young & GF\\_8w\\_M\\_2\\_2     & S148\\\\\n",
       "\t GF  & Young & GF\\_8w\\_M\\_3\\_2     & S148\\\\\n",
       "\t GF  & Young & GF\\_8w\\_M\\_4\\_2     & S148\\\\\n",
       "\t SPF & Old   & SPF\\_104w\\_M\\_1\\_2  & S174\\\\\n",
       "\t SPF & Old   & SPF\\_104w\\_M\\_10\\_2 & S198\\\\\n",
       "\t SPF & Old   & SPF\\_104w\\_M\\_11\\_2 & S198\\\\\n",
       "\t SPF & Old   & SPF\\_104w\\_M\\_12\\_2 & S198\\\\\n",
       "\t SPF & Old   & SPF\\_104w\\_M\\_13\\_2 & S198\\\\\n",
       "\t SPF & Old   & SPF\\_104w\\_M\\_14\\_2 & S198\\\\\n",
       "\t SPF & Old   & SPF\\_104w\\_M\\_2\\_2  & S174\\\\\n",
       "\t SPF & Old   & SPF\\_104w\\_M\\_3\\_2  & S174\\\\\n",
       "\t SPF & Old   & SPF\\_104w\\_M\\_4\\_2  & S174\\\\\n",
       "\t SPF & Old   & SPF\\_104w\\_M\\_5\\_2  & S198\\\\\n",
       "\t SPF & Old   & SPF\\_104w\\_M\\_6\\_2  & S198\\\\\n",
       "\t SPF & Old   & SPF\\_104w\\_M\\_7\\_2  & S198\\\\\n",
       "\t SPF & Old   & SPF\\_104w\\_M\\_8\\_2  & S198\\\\\n",
       "\t SPF & Old   & SPF\\_104w\\_M\\_9\\_2  & S198\\\\\n",
       "\t SPF & Young & SPF\\_8w\\_M\\_2\\_2    & S148\\\\\n",
       "\t SPF & Young & SPF\\_8w\\_M\\_3\\_2    & S148\\\\\n",
       "\t SPF & Young & SPF\\_8w\\_M\\_4\\_2    & S148\\\\\n",
       "\\end{tabular}\n"
      ],
      "text/markdown": [
       "\n",
       "A tibble: 26 × 4\n",
       "\n",
       "| Microbiota &lt;chr&gt; | Age &lt;chr&gt; | sample &lt;chr&gt; | project &lt;chr&gt; |\n",
       "|---|---|---|---|\n",
       "| GF  | Old   | GF_104w_M_1_2   | S264 |\n",
       "| GF  | Old   | GF_104w_M_2_2   | S264 |\n",
       "| GF  | Old   | GF_104w_M_3_2   | S288 |\n",
       "| GF  | Old   | GF_104w_M_4_2   | S288 |\n",
       "| GF  | Old   | GF_104w_M_5_2   | S288 |\n",
       "| GF  | Young | GF_8w_M_1_2     | S148 |\n",
       "| GF  | Young | GF_8w_M_2_2     | S148 |\n",
       "| GF  | Young | GF_8w_M_3_2     | S148 |\n",
       "| GF  | Young | GF_8w_M_4_2     | S148 |\n",
       "| SPF | Old   | SPF_104w_M_1_2  | S174 |\n",
       "| SPF | Old   | SPF_104w_M_10_2 | S198 |\n",
       "| SPF | Old   | SPF_104w_M_11_2 | S198 |\n",
       "| SPF | Old   | SPF_104w_M_12_2 | S198 |\n",
       "| SPF | Old   | SPF_104w_M_13_2 | S198 |\n",
       "| SPF | Old   | SPF_104w_M_14_2 | S198 |\n",
       "| SPF | Old   | SPF_104w_M_2_2  | S174 |\n",
       "| SPF | Old   | SPF_104w_M_3_2  | S174 |\n",
       "| SPF | Old   | SPF_104w_M_4_2  | S174 |\n",
       "| SPF | Old   | SPF_104w_M_5_2  | S198 |\n",
       "| SPF | Old   | SPF_104w_M_6_2  | S198 |\n",
       "| SPF | Old   | SPF_104w_M_7_2  | S198 |\n",
       "| SPF | Old   | SPF_104w_M_8_2  | S198 |\n",
       "| SPF | Old   | SPF_104w_M_9_2  | S198 |\n",
       "| SPF | Young | SPF_8w_M_2_2    | S148 |\n",
       "| SPF | Young | SPF_8w_M_3_2    | S148 |\n",
       "| SPF | Young | SPF_8w_M_4_2    | S148 |\n",
       "\n"
      ],
      "text/plain": [
       "   Microbiota Age   sample          project\n",
       "1  GF         Old   GF_104w_M_1_2   S264   \n",
       "2  GF         Old   GF_104w_M_2_2   S264   \n",
       "3  GF         Old   GF_104w_M_3_2   S288   \n",
       "4  GF         Old   GF_104w_M_4_2   S288   \n",
       "5  GF         Old   GF_104w_M_5_2   S288   \n",
       "6  GF         Young GF_8w_M_1_2     S148   \n",
       "7  GF         Young GF_8w_M_2_2     S148   \n",
       "8  GF         Young GF_8w_M_3_2     S148   \n",
       "9  GF         Young GF_8w_M_4_2     S148   \n",
       "10 SPF        Old   SPF_104w_M_1_2  S174   \n",
       "11 SPF        Old   SPF_104w_M_10_2 S198   \n",
       "12 SPF        Old   SPF_104w_M_11_2 S198   \n",
       "13 SPF        Old   SPF_104w_M_12_2 S198   \n",
       "14 SPF        Old   SPF_104w_M_13_2 S198   \n",
       "15 SPF        Old   SPF_104w_M_14_2 S198   \n",
       "16 SPF        Old   SPF_104w_M_2_2  S174   \n",
       "17 SPF        Old   SPF_104w_M_3_2  S174   \n",
       "18 SPF        Old   SPF_104w_M_4_2  S174   \n",
       "19 SPF        Old   SPF_104w_M_5_2  S198   \n",
       "20 SPF        Old   SPF_104w_M_6_2  S198   \n",
       "21 SPF        Old   SPF_104w_M_7_2  S198   \n",
       "22 SPF        Old   SPF_104w_M_8_2  S198   \n",
       "23 SPF        Old   SPF_104w_M_9_2  S198   \n",
       "24 SPF        Young SPF_8w_M_2_2    S148   \n",
       "25 SPF        Young SPF_8w_M_3_2    S148   \n",
       "26 SPF        Young SPF_8w_M_4_2    S148   "
      ]
     },
     "metadata": {},
     "output_type": "display_data"
    }
   ],
   "source": [
    "metadata = metadata %>%\n",
    "    filter(Sex == 'Male') %>%\n",
    "    filter(Age != 'Middle-aged') %>%\n",
    "    filter(!sample %in% c(\"SPF_8w_F_2_2\", \"SPF_8w_F_5_2\", \"SPF_8w_M_1_2\")) %>%\n",
    "    select(-Sex)\n",
    "metadata"
   ]
  },
  {
   "cell_type": "code",
   "execution_count": 9,
   "metadata": {},
   "outputs": [],
   "source": [
    "save(metadata, file=paste(dp, \"metadata.RData\", sep=''))"
   ]
  },
  {
   "cell_type": "code",
   "execution_count": 10,
   "metadata": {},
   "outputs": [],
   "source": [
    "counts = counts[,names(counts) %in% metadata$sample]"
   ]
  },
  {
   "cell_type": "code",
   "execution_count": 11,
   "metadata": {},
   "outputs": [
    {
     "data": {
      "text/html": [
       "<table class=\"dataframe\">\n",
       "<caption>A grouped_df: 4 × 3</caption>\n",
       "<thead>\n",
       "\t<tr><th scope=col>Microbiota</th><th scope=col>Age</th><th scope=col>project</th></tr>\n",
       "\t<tr><th scope=col>&lt;chr&gt;</th><th scope=col>&lt;chr&gt;</th><th scope=col>&lt;chr&gt;</th></tr>\n",
       "</thead>\n",
       "<tbody>\n",
       "\t<tr><td>GF </td><td>Young</td><td>S148</td></tr>\n",
       "\t<tr><td>SPF</td><td>Young</td><td>S148</td></tr>\n",
       "\t<tr><td>SPF</td><td>Old  </td><td>S174</td></tr>\n",
       "\t<tr><td>GF </td><td>Old  </td><td>S264</td></tr>\n",
       "</tbody>\n",
       "</table>\n"
      ],
      "text/latex": [
       "A grouped\\_df: 4 × 3\n",
       "\\begin{tabular}{lll}\n",
       " Microbiota & Age & project\\\\\n",
       " <chr> & <chr> & <chr>\\\\\n",
       "\\hline\n",
       "\t GF  & Young & S148\\\\\n",
       "\t SPF & Young & S148\\\\\n",
       "\t SPF & Old   & S174\\\\\n",
       "\t GF  & Old   & S264\\\\\n",
       "\\end{tabular}\n"
      ],
      "text/markdown": [
       "\n",
       "A grouped_df: 4 × 3\n",
       "\n",
       "| Microbiota &lt;chr&gt; | Age &lt;chr&gt; | project &lt;chr&gt; |\n",
       "|---|---|---|\n",
       "| GF  | Young | S148 |\n",
       "| SPF | Young | S148 |\n",
       "| SPF | Old   | S174 |\n",
       "| GF  | Old   | S264 |\n",
       "\n"
      ],
      "text/plain": [
       "  Microbiota Age   project\n",
       "1 GF         Young S148   \n",
       "2 SPF        Young S148   \n",
       "3 SPF        Old   S174   \n",
       "4 GF         Old   S264   "
      ]
     },
     "metadata": {},
     "output_type": "display_data"
    }
   ],
   "source": [
    "metadata %>% \n",
    "    select(-sample) %>% \n",
    "    group_by(Age, Microbiota) %>%\n",
    "    arrange(project) %>%\n",
    "    filter(row_number()==1)"
   ]
  },
  {
   "cell_type": "markdown",
   "metadata": {},
   "source": [
    "# Remove spurious data"
   ]
  },
  {
   "cell_type": "markdown",
   "metadata": {},
   "source": [
    "Remove the rows with only zeros (printed: before / after)"
   ]
  },
  {
   "cell_type": "code",
   "execution_count": 12,
   "metadata": {
    "scrolled": true
   },
   "outputs": [
    {
     "data": {
      "text/html": [
       "24421"
      ],
      "text/latex": [
       "24421"
      ],
      "text/markdown": [
       "24421"
      ],
      "text/plain": [
       "[1] 24421"
      ]
     },
     "metadata": {},
     "output_type": "display_data"
    },
    {
     "data": {
      "text/html": [
       "18113"
      ],
      "text/latex": [
       "18113"
      ],
      "text/markdown": [
       "18113"
      ],
      "text/plain": [
       "[1] 18113"
      ]
     },
     "metadata": {},
     "output_type": "display_data"
    }
   ],
   "source": [
    "nrow(counts)\n",
    "counts = counts[ rowSums(counts) > 1, ]\n",
    "nrow(counts)"
   ]
  },
  {
   "cell_type": "markdown",
   "metadata": {},
   "source": [
    "# Rename genes names"
   ]
  },
  {
   "cell_type": "markdown",
   "metadata": {},
   "source": [
    "Rename the genes to be sure there is a map with Entrez Gene Identifers:\n",
    "\n",
    "Mapping extracted using:\n",
    "\n",
    "1. Extract mapping between \n",
    "    - Entrez Gene Identifiers and Gene Names (and description) \n",
    "    - Gene Symbols and Entrez Gene Identifiers\n",
    "    - RefSeq and Entrez Gene Identifiers\n",
    "    - Gene Symbols and Gene Names (and description)\n",
    "    - Entrez Gene Identifiers and KEGG pathways\n",
    "2. Get RefSeq ids for genes in count table\n",
    "3. Get genes without RefSeq ids (printed: number of them that will need to be changed)\n",
    "4. Search on Entrez the correct name of the genes without RefSeq ids\n",
    "5. Clean the new names to keep only the ones with one new names, that are not already in the count table,\n",
    "6. Apply them to the counts\n",
    "7. Check the new number of genes without RefSeq ids"
   ]
  },
  {
   "cell_type": "code",
   "execution_count": 13,
   "metadata": {
    "scrolled": true
   },
   "outputs": [],
   "source": [
    "table = read.table(\"../data/name_replacement\", sep=\",\", header = 1, row.names = 1)"
   ]
  },
  {
   "cell_type": "code",
   "execution_count": 14,
   "metadata": {},
   "outputs": [],
   "source": [
    "new_names = rownames(counts)\n",
    "names(new_names) = rownames(counts)\n",
    "names_to_replace = new_names %in% rownames(table)\n",
    "new_names[names_to_replace] = table[new_names[names_to_replace],'New']\n",
    "rownames(counts) = new_names"
   ]
  },
  {
   "cell_type": "markdown",
   "metadata": {},
   "source": [
    "# Order the data"
   ]
  },
  {
   "cell_type": "markdown",
   "metadata": {},
   "source": [
    "Reorder the columns and save the counts object"
   ]
  },
  {
   "cell_type": "code",
   "execution_count": 15,
   "metadata": {},
   "outputs": [
    {
     "data": {
      "text/html": [
       "<table class=\"dataframe\">\n",
       "<caption>A data.frame: 6 × 26</caption>\n",
       "<thead>\n",
       "\t<tr><th></th><th scope=col>GF_104w_M_1_2</th><th scope=col>GF_104w_M_2_2</th><th scope=col>GF_8w_M_1_2</th><th scope=col>GF_8w_M_2_2</th><th scope=col>GF_8w_M_3_2</th><th scope=col>GF_8w_M_4_2</th><th scope=col>SPF_104w_M_1_2</th><th scope=col>SPF_104w_M_2_2</th><th scope=col>SPF_104w_M_3_2</th><th scope=col>SPF_104w_M_4_2</th><th scope=col>⋯</th><th scope=col>SPF_104w_M_8_2</th><th scope=col>SPF_104w_M_9_2</th><th scope=col>SPF_104w_M_10_2</th><th scope=col>SPF_104w_M_11_2</th><th scope=col>SPF_104w_M_12_2</th><th scope=col>SPF_104w_M_13_2</th><th scope=col>SPF_104w_M_14_2</th><th scope=col>GF_104w_M_3_2</th><th scope=col>GF_104w_M_5_2</th><th scope=col>GF_104w_M_4_2</th></tr>\n",
       "\t<tr><th></th><th scope=col>&lt;int&gt;</th><th scope=col>&lt;int&gt;</th><th scope=col>&lt;int&gt;</th><th scope=col>&lt;int&gt;</th><th scope=col>&lt;int&gt;</th><th scope=col>&lt;int&gt;</th><th scope=col>&lt;int&gt;</th><th scope=col>&lt;int&gt;</th><th scope=col>&lt;int&gt;</th><th scope=col>&lt;int&gt;</th><th scope=col>⋯</th><th scope=col>&lt;int&gt;</th><th scope=col>&lt;int&gt;</th><th scope=col>&lt;int&gt;</th><th scope=col>&lt;int&gt;</th><th scope=col>&lt;int&gt;</th><th scope=col>&lt;int&gt;</th><th scope=col>&lt;int&gt;</th><th scope=col>&lt;int&gt;</th><th scope=col>&lt;int&gt;</th><th scope=col>&lt;int&gt;</th></tr>\n",
       "</thead>\n",
       "<tbody>\n",
       "\t<tr><th scope=row>0610005C13Rik</th><td>   2</td><td>   2</td><td>  7</td><td>  1</td><td>  6</td><td>   7</td><td>  9</td><td>   2</td><td>  2</td><td>  2</td><td>⋯</td><td>   2</td><td>   1</td><td>   9</td><td>  10</td><td>   0</td><td>   0</td><td>   6</td><td>  1</td><td>  1</td><td>  1</td></tr>\n",
       "\t<tr><th scope=row>Erg28</th><td>1002</td><td>1577</td><td>499</td><td>619</td><td>614</td><td> 758</td><td>613</td><td> 531</td><td>713</td><td>381</td><td>⋯</td><td> 851</td><td> 875</td><td>1193</td><td> 941</td><td> 842</td><td> 846</td><td> 786</td><td>394</td><td>570</td><td>496</td></tr>\n",
       "\t<tr><th scope=row>0610009B22Rik</th><td>1385</td><td>2475</td><td>784</td><td>822</td><td>974</td><td>1019</td><td>631</td><td>1008</td><td>866</td><td>611</td><td>⋯</td><td>1278</td><td>1205</td><td>2042</td><td>1776</td><td>1390</td><td>1348</td><td>1370</td><td>551</td><td>772</td><td>522</td></tr>\n",
       "\t<tr><th scope=row>0610009L18Rik</th><td>  23</td><td>  61</td><td> 51</td><td> 13</td><td> 51</td><td>  30</td><td> 25</td><td>  19</td><td> 33</td><td> 25</td><td>⋯</td><td>  50</td><td>  24</td><td>  54</td><td>  64</td><td>  40</td><td>  37</td><td>  52</td><td> 20</td><td> 22</td><td> 26</td></tr>\n",
       "\t<tr><th scope=row>Dele1</th><td> 256</td><td> 432</td><td>298</td><td>237</td><td>520</td><td> 356</td><td>189</td><td> 271</td><td>294</td><td>228</td><td>⋯</td><td> 225</td><td> 192</td><td> 285</td><td> 304</td><td> 108</td><td> 247</td><td> 203</td><td>269</td><td>351</td><td>263</td></tr>\n",
       "\t<tr><th scope=row>Sanbr</th><td> 315</td><td> 483</td><td>284</td><td>546</td><td>429</td><td> 507</td><td>166</td><td> 227</td><td>406</td><td>223</td><td>⋯</td><td> 340</td><td> 524</td><td>1122</td><td> 718</td><td> 576</td><td> 468</td><td> 585</td><td>412</td><td>540</td><td>207</td></tr>\n",
       "</tbody>\n",
       "</table>\n"
      ],
      "text/latex": [
       "A data.frame: 6 × 26\n",
       "\\begin{tabular}{r|lllllllllllllllllllll}\n",
       "  & GF\\_104w\\_M\\_1\\_2 & GF\\_104w\\_M\\_2\\_2 & GF\\_8w\\_M\\_1\\_2 & GF\\_8w\\_M\\_2\\_2 & GF\\_8w\\_M\\_3\\_2 & GF\\_8w\\_M\\_4\\_2 & SPF\\_104w\\_M\\_1\\_2 & SPF\\_104w\\_M\\_2\\_2 & SPF\\_104w\\_M\\_3\\_2 & SPF\\_104w\\_M\\_4\\_2 & ⋯ & SPF\\_104w\\_M\\_8\\_2 & SPF\\_104w\\_M\\_9\\_2 & SPF\\_104w\\_M\\_10\\_2 & SPF\\_104w\\_M\\_11\\_2 & SPF\\_104w\\_M\\_12\\_2 & SPF\\_104w\\_M\\_13\\_2 & SPF\\_104w\\_M\\_14\\_2 & GF\\_104w\\_M\\_3\\_2 & GF\\_104w\\_M\\_5\\_2 & GF\\_104w\\_M\\_4\\_2\\\\\n",
       "  & <int> & <int> & <int> & <int> & <int> & <int> & <int> & <int> & <int> & <int> & ⋯ & <int> & <int> & <int> & <int> & <int> & <int> & <int> & <int> & <int> & <int>\\\\\n",
       "\\hline\n",
       "\t0610005C13Rik &    2 &    2 &   7 &   1 &   6 &    7 &   9 &    2 &   2 &   2 & ⋯ &    2 &    1 &    9 &   10 &    0 &    0 &    6 &   1 &   1 &   1\\\\\n",
       "\tErg28 & 1002 & 1577 & 499 & 619 & 614 &  758 & 613 &  531 & 713 & 381 & ⋯ &  851 &  875 & 1193 &  941 &  842 &  846 &  786 & 394 & 570 & 496\\\\\n",
       "\t0610009B22Rik & 1385 & 2475 & 784 & 822 & 974 & 1019 & 631 & 1008 & 866 & 611 & ⋯ & 1278 & 1205 & 2042 & 1776 & 1390 & 1348 & 1370 & 551 & 772 & 522\\\\\n",
       "\t0610009L18Rik &   23 &   61 &  51 &  13 &  51 &   30 &  25 &   19 &  33 &  25 & ⋯ &   50 &   24 &   54 &   64 &   40 &   37 &   52 &  20 &  22 &  26\\\\\n",
       "\tDele1 &  256 &  432 & 298 & 237 & 520 &  356 & 189 &  271 & 294 & 228 & ⋯ &  225 &  192 &  285 &  304 &  108 &  247 &  203 & 269 & 351 & 263\\\\\n",
       "\tSanbr &  315 &  483 & 284 & 546 & 429 &  507 & 166 &  227 & 406 & 223 & ⋯ &  340 &  524 & 1122 &  718 &  576 &  468 &  585 & 412 & 540 & 207\\\\\n",
       "\\end{tabular}\n"
      ],
      "text/markdown": [
       "\n",
       "A data.frame: 6 × 26\n",
       "\n",
       "| <!--/--> | GF_104w_M_1_2 &lt;int&gt; | GF_104w_M_2_2 &lt;int&gt; | GF_8w_M_1_2 &lt;int&gt; | GF_8w_M_2_2 &lt;int&gt; | GF_8w_M_3_2 &lt;int&gt; | GF_8w_M_4_2 &lt;int&gt; | SPF_104w_M_1_2 &lt;int&gt; | SPF_104w_M_2_2 &lt;int&gt; | SPF_104w_M_3_2 &lt;int&gt; | SPF_104w_M_4_2 &lt;int&gt; | ⋯ ⋯ | SPF_104w_M_8_2 &lt;int&gt; | SPF_104w_M_9_2 &lt;int&gt; | SPF_104w_M_10_2 &lt;int&gt; | SPF_104w_M_11_2 &lt;int&gt; | SPF_104w_M_12_2 &lt;int&gt; | SPF_104w_M_13_2 &lt;int&gt; | SPF_104w_M_14_2 &lt;int&gt; | GF_104w_M_3_2 &lt;int&gt; | GF_104w_M_5_2 &lt;int&gt; | GF_104w_M_4_2 &lt;int&gt; |\n",
       "|---|---|---|---|---|---|---|---|---|---|---|---|---|---|---|---|---|---|---|---|---|---|\n",
       "| 0610005C13Rik |    2 |    2 |   7 |   1 |   6 |    7 |   9 |    2 |   2 |   2 | ⋯ |    2 |    1 |    9 |   10 |    0 |    0 |    6 |   1 |   1 |   1 |\n",
       "| Erg28 | 1002 | 1577 | 499 | 619 | 614 |  758 | 613 |  531 | 713 | 381 | ⋯ |  851 |  875 | 1193 |  941 |  842 |  846 |  786 | 394 | 570 | 496 |\n",
       "| 0610009B22Rik | 1385 | 2475 | 784 | 822 | 974 | 1019 | 631 | 1008 | 866 | 611 | ⋯ | 1278 | 1205 | 2042 | 1776 | 1390 | 1348 | 1370 | 551 | 772 | 522 |\n",
       "| 0610009L18Rik |   23 |   61 |  51 |  13 |  51 |   30 |  25 |   19 |  33 |  25 | ⋯ |   50 |   24 |   54 |   64 |   40 |   37 |   52 |  20 |  22 |  26 |\n",
       "| Dele1 |  256 |  432 | 298 | 237 | 520 |  356 | 189 |  271 | 294 | 228 | ⋯ |  225 |  192 |  285 |  304 |  108 |  247 |  203 | 269 | 351 | 263 |\n",
       "| Sanbr |  315 |  483 | 284 | 546 | 429 |  507 | 166 |  227 | 406 | 223 | ⋯ |  340 |  524 | 1122 |  718 |  576 |  468 |  585 | 412 | 540 | 207 |\n",
       "\n"
      ],
      "text/plain": [
       "              GF_104w_M_1_2 GF_104w_M_2_2 GF_8w_M_1_2 GF_8w_M_2_2 GF_8w_M_3_2\n",
       "0610005C13Rik    2             2            7           1           6        \n",
       "Erg28         1002          1577          499         619         614        \n",
       "0610009B22Rik 1385          2475          784         822         974        \n",
       "0610009L18Rik   23            61           51          13          51        \n",
       "Dele1          256           432          298         237         520        \n",
       "Sanbr          315           483          284         546         429        \n",
       "              GF_8w_M_4_2 SPF_104w_M_1_2 SPF_104w_M_2_2 SPF_104w_M_3_2\n",
       "0610005C13Rik    7          9               2             2           \n",
       "Erg28          758        613             531           713           \n",
       "0610009B22Rik 1019        631            1008           866           \n",
       "0610009L18Rik   30         25              19            33           \n",
       "Dele1          356        189             271           294           \n",
       "Sanbr          507        166             227           406           \n",
       "              SPF_104w_M_4_2 ⋯ SPF_104w_M_8_2 SPF_104w_M_9_2 SPF_104w_M_10_2\n",
       "0610005C13Rik   2            ⋯    2              1              9           \n",
       "Erg28         381            ⋯  851            875           1193           \n",
       "0610009B22Rik 611            ⋯ 1278           1205           2042           \n",
       "0610009L18Rik  25            ⋯   50             24             54           \n",
       "Dele1         228            ⋯  225            192            285           \n",
       "Sanbr         223            ⋯  340            524           1122           \n",
       "              SPF_104w_M_11_2 SPF_104w_M_12_2 SPF_104w_M_13_2 SPF_104w_M_14_2\n",
       "0610005C13Rik   10               0               0               6           \n",
       "Erg28          941             842             846             786           \n",
       "0610009B22Rik 1776            1390            1348            1370           \n",
       "0610009L18Rik   64              40              37              52           \n",
       "Dele1          304             108             247             203           \n",
       "Sanbr          718             576             468             585           \n",
       "              GF_104w_M_3_2 GF_104w_M_5_2 GF_104w_M_4_2\n",
       "0610005C13Rik   1             1             1          \n",
       "Erg28         394           570           496          \n",
       "0610009B22Rik 551           772           522          \n",
       "0610009L18Rik  20            22            26          \n",
       "Dele1         269           351           263          \n",
       "Sanbr         412           540           207          "
      ]
     },
     "metadata": {},
     "output_type": "display_data"
    },
    {
     "name": "stderr",
     "output_type": "stream",
     "text": [
      "Warning message:\n",
      "“`current_vars()` was deprecated in dplyr 0.8.4.\n",
      "Please use `tidyselect::peek_vars()` instead.\n",
      "\u001b[90mThis warning is displayed once every 8 hours.\u001b[39m\n",
      "\u001b[90mCall `lifecycle::last_lifecycle_warnings()` to see where this warning was generated.\u001b[39m”\n"
     ]
    },
    {
     "data": {
      "text/html": [
       "<table class=\"dataframe\">\n",
       "<caption>A data.frame: 6 × 26</caption>\n",
       "<thead>\n",
       "\t<tr><th></th><th scope=col>GF_104w_M_1_2</th><th scope=col>GF_104w_M_2_2</th><th scope=col>GF_104w_M_3_2</th><th scope=col>GF_104w_M_4_2</th><th scope=col>GF_104w_M_5_2</th><th scope=col>GF_8w_M_1_2</th><th scope=col>GF_8w_M_2_2</th><th scope=col>GF_8w_M_3_2</th><th scope=col>GF_8w_M_4_2</th><th scope=col>SPF_104w_M_1_2</th><th scope=col>⋯</th><th scope=col>SPF_104w_M_3_2</th><th scope=col>SPF_104w_M_4_2</th><th scope=col>SPF_104w_M_5_2</th><th scope=col>SPF_104w_M_6_2</th><th scope=col>SPF_104w_M_7_2</th><th scope=col>SPF_104w_M_8_2</th><th scope=col>SPF_104w_M_9_2</th><th scope=col>SPF_8w_M_2_2</th><th scope=col>SPF_8w_M_3_2</th><th scope=col>SPF_8w_M_4_2</th></tr>\n",
       "\t<tr><th></th><th scope=col>&lt;int&gt;</th><th scope=col>&lt;int&gt;</th><th scope=col>&lt;int&gt;</th><th scope=col>&lt;int&gt;</th><th scope=col>&lt;int&gt;</th><th scope=col>&lt;int&gt;</th><th scope=col>&lt;int&gt;</th><th scope=col>&lt;int&gt;</th><th scope=col>&lt;int&gt;</th><th scope=col>&lt;int&gt;</th><th scope=col>⋯</th><th scope=col>&lt;int&gt;</th><th scope=col>&lt;int&gt;</th><th scope=col>&lt;int&gt;</th><th scope=col>&lt;int&gt;</th><th scope=col>&lt;int&gt;</th><th scope=col>&lt;int&gt;</th><th scope=col>&lt;int&gt;</th><th scope=col>&lt;int&gt;</th><th scope=col>&lt;int&gt;</th><th scope=col>&lt;int&gt;</th></tr>\n",
       "</thead>\n",
       "<tbody>\n",
       "\t<tr><th scope=row>0610005C13Rik</th><td>   2</td><td>   2</td><td>  1</td><td>  1</td><td>  1</td><td>  7</td><td>  1</td><td>  6</td><td>   7</td><td>  9</td><td>⋯</td><td>  2</td><td>  2</td><td>  23</td><td>   0</td><td>   1</td><td>   2</td><td>   1</td><td>  9</td><td>  8</td><td>   4</td></tr>\n",
       "\t<tr><th scope=row>Erg28</th><td>1002</td><td>1577</td><td>394</td><td>496</td><td>570</td><td>499</td><td>619</td><td>614</td><td> 758</td><td>613</td><td>⋯</td><td>713</td><td>381</td><td> 963</td><td> 863</td><td>1005</td><td> 851</td><td> 875</td><td>615</td><td>648</td><td> 745</td></tr>\n",
       "\t<tr><th scope=row>0610009B22Rik</th><td>1385</td><td>2475</td><td>551</td><td>522</td><td>772</td><td>784</td><td>822</td><td>974</td><td>1019</td><td>631</td><td>⋯</td><td>866</td><td>611</td><td>1639</td><td>1377</td><td>1174</td><td>1278</td><td>1205</td><td>985</td><td>941</td><td>1063</td></tr>\n",
       "\t<tr><th scope=row>0610009L18Rik</th><td>  23</td><td>  61</td><td> 20</td><td> 26</td><td> 22</td><td> 51</td><td> 13</td><td> 51</td><td>  30</td><td> 25</td><td>⋯</td><td> 33</td><td> 25</td><td>  49</td><td>  44</td><td>  12</td><td>  50</td><td>  24</td><td> 27</td><td> 55</td><td>  76</td></tr>\n",
       "\t<tr><th scope=row>Dele1</th><td> 256</td><td> 432</td><td>269</td><td>263</td><td>351</td><td>298</td><td>237</td><td>520</td><td> 356</td><td>189</td><td>⋯</td><td>294</td><td>228</td><td> 378</td><td> 180</td><td> 266</td><td> 225</td><td> 192</td><td>493</td><td>348</td><td> 429</td></tr>\n",
       "\t<tr><th scope=row>Sanbr</th><td> 315</td><td> 483</td><td>412</td><td>207</td><td>540</td><td>284</td><td>546</td><td>429</td><td> 507</td><td>166</td><td>⋯</td><td>406</td><td>223</td><td> 172</td><td> 437</td><td> 677</td><td> 340</td><td> 524</td><td>313</td><td>303</td><td> 355</td></tr>\n",
       "</tbody>\n",
       "</table>\n"
      ],
      "text/latex": [
       "A data.frame: 6 × 26\n",
       "\\begin{tabular}{r|lllllllllllllllllllll}\n",
       "  & GF\\_104w\\_M\\_1\\_2 & GF\\_104w\\_M\\_2\\_2 & GF\\_104w\\_M\\_3\\_2 & GF\\_104w\\_M\\_4\\_2 & GF\\_104w\\_M\\_5\\_2 & GF\\_8w\\_M\\_1\\_2 & GF\\_8w\\_M\\_2\\_2 & GF\\_8w\\_M\\_3\\_2 & GF\\_8w\\_M\\_4\\_2 & SPF\\_104w\\_M\\_1\\_2 & ⋯ & SPF\\_104w\\_M\\_3\\_2 & SPF\\_104w\\_M\\_4\\_2 & SPF\\_104w\\_M\\_5\\_2 & SPF\\_104w\\_M\\_6\\_2 & SPF\\_104w\\_M\\_7\\_2 & SPF\\_104w\\_M\\_8\\_2 & SPF\\_104w\\_M\\_9\\_2 & SPF\\_8w\\_M\\_2\\_2 & SPF\\_8w\\_M\\_3\\_2 & SPF\\_8w\\_M\\_4\\_2\\\\\n",
       "  & <int> & <int> & <int> & <int> & <int> & <int> & <int> & <int> & <int> & <int> & ⋯ & <int> & <int> & <int> & <int> & <int> & <int> & <int> & <int> & <int> & <int>\\\\\n",
       "\\hline\n",
       "\t0610005C13Rik &    2 &    2 &   1 &   1 &   1 &   7 &   1 &   6 &    7 &   9 & ⋯ &   2 &   2 &   23 &    0 &    1 &    2 &    1 &   9 &   8 &    4\\\\\n",
       "\tErg28 & 1002 & 1577 & 394 & 496 & 570 & 499 & 619 & 614 &  758 & 613 & ⋯ & 713 & 381 &  963 &  863 & 1005 &  851 &  875 & 615 & 648 &  745\\\\\n",
       "\t0610009B22Rik & 1385 & 2475 & 551 & 522 & 772 & 784 & 822 & 974 & 1019 & 631 & ⋯ & 866 & 611 & 1639 & 1377 & 1174 & 1278 & 1205 & 985 & 941 & 1063\\\\\n",
       "\t0610009L18Rik &   23 &   61 &  20 &  26 &  22 &  51 &  13 &  51 &   30 &  25 & ⋯ &  33 &  25 &   49 &   44 &   12 &   50 &   24 &  27 &  55 &   76\\\\\n",
       "\tDele1 &  256 &  432 & 269 & 263 & 351 & 298 & 237 & 520 &  356 & 189 & ⋯ & 294 & 228 &  378 &  180 &  266 &  225 &  192 & 493 & 348 &  429\\\\\n",
       "\tSanbr &  315 &  483 & 412 & 207 & 540 & 284 & 546 & 429 &  507 & 166 & ⋯ & 406 & 223 &  172 &  437 &  677 &  340 &  524 & 313 & 303 &  355\\\\\n",
       "\\end{tabular}\n"
      ],
      "text/markdown": [
       "\n",
       "A data.frame: 6 × 26\n",
       "\n",
       "| <!--/--> | GF_104w_M_1_2 &lt;int&gt; | GF_104w_M_2_2 &lt;int&gt; | GF_104w_M_3_2 &lt;int&gt; | GF_104w_M_4_2 &lt;int&gt; | GF_104w_M_5_2 &lt;int&gt; | GF_8w_M_1_2 &lt;int&gt; | GF_8w_M_2_2 &lt;int&gt; | GF_8w_M_3_2 &lt;int&gt; | GF_8w_M_4_2 &lt;int&gt; | SPF_104w_M_1_2 &lt;int&gt; | ⋯ ⋯ | SPF_104w_M_3_2 &lt;int&gt; | SPF_104w_M_4_2 &lt;int&gt; | SPF_104w_M_5_2 &lt;int&gt; | SPF_104w_M_6_2 &lt;int&gt; | SPF_104w_M_7_2 &lt;int&gt; | SPF_104w_M_8_2 &lt;int&gt; | SPF_104w_M_9_2 &lt;int&gt; | SPF_8w_M_2_2 &lt;int&gt; | SPF_8w_M_3_2 &lt;int&gt; | SPF_8w_M_4_2 &lt;int&gt; |\n",
       "|---|---|---|---|---|---|---|---|---|---|---|---|---|---|---|---|---|---|---|---|---|---|\n",
       "| 0610005C13Rik |    2 |    2 |   1 |   1 |   1 |   7 |   1 |   6 |    7 |   9 | ⋯ |   2 |   2 |   23 |    0 |    1 |    2 |    1 |   9 |   8 |    4 |\n",
       "| Erg28 | 1002 | 1577 | 394 | 496 | 570 | 499 | 619 | 614 |  758 | 613 | ⋯ | 713 | 381 |  963 |  863 | 1005 |  851 |  875 | 615 | 648 |  745 |\n",
       "| 0610009B22Rik | 1385 | 2475 | 551 | 522 | 772 | 784 | 822 | 974 | 1019 | 631 | ⋯ | 866 | 611 | 1639 | 1377 | 1174 | 1278 | 1205 | 985 | 941 | 1063 |\n",
       "| 0610009L18Rik |   23 |   61 |  20 |  26 |  22 |  51 |  13 |  51 |   30 |  25 | ⋯ |  33 |  25 |   49 |   44 |   12 |   50 |   24 |  27 |  55 |   76 |\n",
       "| Dele1 |  256 |  432 | 269 | 263 | 351 | 298 | 237 | 520 |  356 | 189 | ⋯ | 294 | 228 |  378 |  180 |  266 |  225 |  192 | 493 | 348 |  429 |\n",
       "| Sanbr |  315 |  483 | 412 | 207 | 540 | 284 | 546 | 429 |  507 | 166 | ⋯ | 406 | 223 |  172 |  437 |  677 |  340 |  524 | 313 | 303 |  355 |\n",
       "\n"
      ],
      "text/plain": [
       "              GF_104w_M_1_2 GF_104w_M_2_2 GF_104w_M_3_2 GF_104w_M_4_2\n",
       "0610005C13Rik    2             2            1             1          \n",
       "Erg28         1002          1577          394           496          \n",
       "0610009B22Rik 1385          2475          551           522          \n",
       "0610009L18Rik   23            61           20            26          \n",
       "Dele1          256           432          269           263          \n",
       "Sanbr          315           483          412           207          \n",
       "              GF_104w_M_5_2 GF_8w_M_1_2 GF_8w_M_2_2 GF_8w_M_3_2 GF_8w_M_4_2\n",
       "0610005C13Rik   1             7           1           6            7       \n",
       "Erg28         570           499         619         614          758       \n",
       "0610009B22Rik 772           784         822         974         1019       \n",
       "0610009L18Rik  22            51          13          51           30       \n",
       "Dele1         351           298         237         520          356       \n",
       "Sanbr         540           284         546         429          507       \n",
       "              SPF_104w_M_1_2 ⋯ SPF_104w_M_3_2 SPF_104w_M_4_2 SPF_104w_M_5_2\n",
       "0610005C13Rik   9            ⋯   2              2              23          \n",
       "Erg28         613            ⋯ 713            381             963          \n",
       "0610009B22Rik 631            ⋯ 866            611            1639          \n",
       "0610009L18Rik  25            ⋯  33             25              49          \n",
       "Dele1         189            ⋯ 294            228             378          \n",
       "Sanbr         166            ⋯ 406            223             172          \n",
       "              SPF_104w_M_6_2 SPF_104w_M_7_2 SPF_104w_M_8_2 SPF_104w_M_9_2\n",
       "0610005C13Rik    0              1              2              1          \n",
       "Erg28          863           1005            851            875          \n",
       "0610009B22Rik 1377           1174           1278           1205          \n",
       "0610009L18Rik   44             12             50             24          \n",
       "Dele1          180            266            225            192          \n",
       "Sanbr          437            677            340            524          \n",
       "              SPF_8w_M_2_2 SPF_8w_M_3_2 SPF_8w_M_4_2\n",
       "0610005C13Rik   9            8             4        \n",
       "Erg28         615          648           745        \n",
       "0610009B22Rik 985          941          1063        \n",
       "0610009L18Rik  27           55            76        \n",
       "Dele1         493          348           429        \n",
       "Sanbr         313          303           355        "
      ]
     },
     "metadata": {},
     "output_type": "display_data"
    }
   ],
   "source": [
    "head(counts)\n",
    "counts = counts %>%\n",
    "         rownames_to_column('gene_names') %>%\n",
    "         select(sort(current_vars())) %>%\n",
    "         column_to_rownames('gene_names')\n",
    "head(counts)\n",
    "save(counts, file=paste(dp, \"prepared_counts.RData\", sep=''))"
   ]
  },
  {
   "cell_type": "markdown",
   "metadata": {},
   "source": [
    "Load the gene length, keep the ones in count table and rename the gene names "
   ]
  },
  {
   "cell_type": "code",
   "execution_count": 16,
   "metadata": {},
   "outputs": [],
   "source": [
    "gene_length = read.table(\"../data/gene_length.tabular\", h = F, row.names = 1)\n",
    "gene_length = gene_length[rownames(counts),]\n",
    "names(gene_length) = new_names\n",
    "save(gene_length, file=paste(dp, \"gene_length.RData\", sep=''))"
   ]
  },
  {
   "cell_type": "code",
   "execution_count": 17,
   "metadata": {},
   "outputs": [],
   "source": [
    "save(metadata, file=paste(dp, \"metadata.RData\", sep=''))"
   ]
  },
  {
   "cell_type": "markdown",
   "metadata": {},
   "source": [
    "# Citations"
   ]
  },
  {
   "cell_type": "code",
   "execution_count": 18,
   "metadata": {},
   "outputs": [
    {
     "data": {
      "text/plain": [
       "\n",
       "To cite rentrez in publications use:\n",
       "\n",
       "  Winter, D. J. (2017) rentrez: an R package for the NCBI eUtils API\n",
       "  The R Journal 9(2):520-526\n",
       "\n",
       "A BibTeX entry for LaTeX users is\n",
       "\n",
       "  @Article{,\n",
       "    title = {{rentrez}: an R package for the NCBI eUtils API},\n",
       "    author = {David J. Winter},\n",
       "    journal = {The R Journal},\n",
       "    year = {2017},\n",
       "    volume = {9},\n",
       "    issue = {2},\n",
       "    pages = {520--526},\n",
       "  }\n"
      ]
     },
     "metadata": {},
     "output_type": "display_data"
    }
   ],
   "source": [
    "citation(\"rentrez\")"
   ]
  }
 ],
 "metadata": {
  "hide_input": true,
  "kernelspec": {
   "display_name": "R",
   "language": "R",
   "name": "ir"
  },
  "language_info": {
   "codemirror_mode": "r",
   "file_extension": ".r",
   "mimetype": "text/x-r-source",
   "name": "R",
   "pygments_lexer": "r",
   "version": "4.1.2"
  },
  "toc": {
   "base_numbering": 1,
   "nav_menu": {},
   "number_sections": true,
   "sideBar": true,
   "skip_h1_title": false,
   "title_cell": "Table of Contents",
   "title_sidebar": "Contents",
   "toc_cell": false,
   "toc_position": {
    "height": "calc(100% - 180px)",
    "left": "10px",
    "top": "150px",
    "width": "229px"
   },
   "toc_section_display": true,
   "toc_window_display": true
  }
 },
 "nbformat": 4,
 "nbformat_minor": 2
}
