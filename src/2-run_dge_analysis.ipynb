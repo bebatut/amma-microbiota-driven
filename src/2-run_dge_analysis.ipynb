{
 "cells": [
  {
   "cell_type": "markdown",
   "metadata": {},
   "source": [
    "Run the differential expression analysis\n",
    "\n",
    "**Need to run first:**\n",
    "- [`../0-prepare_data`](../0-prepare_data.ipynb)\n",
    "- [`1-extract_samples`](1-extract_samples.ipynb)\n",
    "\n",
    "**Table of content**\n",
    "1. [Testing how the complexification of the model explain the data](#Testing-how-the-complexification-of-the-model-explain-the-data)\n",
    "2. [Build the DESeqDataSetFromMatrix object](#Build-the-DESeqDataSetFromMatrix-object)\n",
    "2. [Exploratory analysis and visualization](#Exploratory-analysis-and-visualization)\n",
    "3. [Differential expression analysis](#Differential-expression-analysis)\n",
    "\n",
    "*Generated from a Jupyter Notebook - [Sources](https://github.com/bebatut/neuromac_GF_mices/blob/master/src/microbiota-driven/2-run_dge_analysis.ipynb)*"
   ]
  },
  {
   "cell_type": "markdown",
   "metadata": {},
   "source": [
    "# Load\n",
    "## Libraries and functions"
   ]
  },
  {
   "cell_type": "code",
   "execution_count": 1,
   "metadata": {
    "scrolled": false
   },
   "outputs": [
    {
     "name": "stderr",
     "output_type": "stream",
     "text": [
      "Warning message:\n",
      "“package ‘gplots’ was built under R version 4.1.3”\n",
      "Warning message:\n",
      "“package ‘WGCNA’ was built under R version 4.1.3”\n"
     ]
    },
    {
     "name": "stdout",
     "output_type": "stream",
     "text": [
      "Allowing multi-threading with up to 8 threads.\n"
     ]
    },
    {
     "name": "stderr",
     "output_type": "stream",
     "text": [
      "Warning message:\n",
      "“package ‘reshape’ was built under R version 4.1.3”\n",
      "preparing gene to GO mapping data...\n",
      "\n",
      "preparing IC data...\n",
      "\n",
      "preparing gene to GO mapping data...\n",
      "\n",
      "preparing IC data...\n",
      "\n",
      "preparing gene to GO mapping data...\n",
      "\n",
      "preparing IC data...\n",
      "\n"
     ]
    }
   ],
   "source": [
    "source(\"load_libraries.R\")"
   ]
  },
  {
   "cell_type": "code",
   "execution_count": 2,
   "metadata": {},
   "outputs": [],
   "source": [
    "source(\"functions.R\")"
   ]
  },
  {
   "cell_type": "markdown",
   "metadata": {},
   "source": [
    "## Get the data"
   ]
  },
  {
   "cell_type": "code",
   "execution_count": 3,
   "metadata": {},
   "outputs": [],
   "source": [
    "dp = \"../results/dge/\"\n",
    "dir.create(dp, showWarnings = FALSE)"
   ]
  },
  {
   "cell_type": "code",
   "execution_count": 4,
   "metadata": {},
   "outputs": [],
   "source": [
    "load(paste(dp, \"metadata.RData\", sep=''))\n",
    "load(paste(dp, \"prepared_counts.RData\", sep=''))"
   ]
  },
  {
   "cell_type": "markdown",
   "metadata": {},
   "source": [
    "# Testing how the complexification of the model explain the data\n",
    "\n",
    "- Test of the addition of each factor and interactions\n",
    "- Extraction of the number and percentage of genes with a significant p-values (< 0.05) for the Likelihood Ratio Tests"
   ]
  },
  {
   "cell_type": "code",
   "execution_count": 5,
   "metadata": {},
   "outputs": [
    {
     "name": "stderr",
     "output_type": "stream",
     "text": [
      "Warning message:\n",
      "“`data_frame()` was deprecated in tibble 1.1.0.\n",
      "Please use `tibble()` instead.\n",
      "\u001b[90mThis warning is displayed once every 8 hours.\u001b[39m\n",
      "\u001b[90mCall `lifecycle::last_lifecycle_warnings()` to see where this warning was generated.\u001b[39m”\n"
     ]
    }
   ],
   "source": [
    "complexif_stats = tibble::data_frame(\n",
    "    Design=character(),\n",
    "    Reduced=character(),\n",
    "    Tested=character(),\n",
    "    Gene_nb=numeric(),\n",
    "    Gene_perc=numeric())"
   ]
  },
  {
   "cell_type": "code",
   "execution_count": 6,
   "metadata": {},
   "outputs": [
    {
     "name": "stderr",
     "output_type": "stream",
     "text": [
      "Warning message in DESeqDataSet(se, design = design, ignoreRank):\n",
      "“some variables in design formula are characters, converting to factors”\n",
      "estimating size factors\n",
      "\n",
      "estimating dispersions\n",
      "\n",
      "gene-wise dispersion estimates\n",
      "\n",
      "mean-dispersion relationship\n",
      "\n",
      "final dispersion estimates\n",
      "\n",
      "fitting model and testing\n",
      "\n",
      "-- replacing outliers and refitting for 223 genes\n",
      "-- DESeq argument 'minReplicatesForReplace' = 7 \n",
      "-- original counts are preserved in counts(dds)\n",
      "\n",
      "estimating dispersions\n",
      "\n",
      "fitting model and testing\n",
      "\n"
     ]
    }
   ],
   "source": [
    "# Design: project\n",
    "dds = DESeqDataSetFromMatrix(\n",
    "        countData = counts,\n",
    "        colData = metadata,\n",
    "        design = ~ project)\n",
    "dge = DESeq(dds, test=\"LRT\", reduced = ~ 1)\n",
    "LRT_res = results(dge, alpha=0.05)\n",
    "nb = get_sign_padj(LRT_res)\n",
    "complexif_stats = complexif_stats %>%\n",
    "    add_row(Design=\"project\", Reduced=\"1\", Tested=\"project\", Gene_nb=nb, Gene_perc=100*nb/dim(LRT_res)[1])"
   ]
  },
  {
   "cell_type": "code",
   "execution_count": 7,
   "metadata": {
    "scrolled": true
   },
   "outputs": [
    {
     "name": "stderr",
     "output_type": "stream",
     "text": [
      "Warning message in DESeqDataSet(se, design = design, ignoreRank):\n",
      "“some variables in design formula are characters, converting to factors”\n",
      "estimating size factors\n",
      "\n",
      "estimating dispersions\n",
      "\n",
      "gene-wise dispersion estimates\n",
      "\n",
      "mean-dispersion relationship\n",
      "\n",
      "final dispersion estimates\n",
      "\n",
      "fitting model and testing\n",
      "\n",
      "-- replacing outliers and refitting for 734 genes\n",
      "-- DESeq argument 'minReplicatesForReplace' = 7 \n",
      "-- original counts are preserved in counts(dds)\n",
      "\n",
      "estimating dispersions\n",
      "\n",
      "fitting model and testing\n",
      "\n"
     ]
    }
   ],
   "source": [
    "# Design: Microbiota\n",
    "dds = DESeqDataSetFromMatrix(\n",
    "        countData = counts,\n",
    "        colData = metadata,\n",
    "        design = ~ Microbiota)\n",
    "dge = DESeq(dds, test=\"LRT\", reduced = ~ 1)\n",
    "LRT_res = results(dge, alpha=0.05)\n",
    "nb = get_sign_padj(LRT_res)\n",
    "complexif_stats = complexif_stats %>%\n",
    "    add_row(Design=\"Microbiota\", Reduced=\"1\", Tested=\"Microbiota\", Gene_nb=nb, Gene_perc=100*nb/dim(LRT_res)[1])"
   ]
  },
  {
   "cell_type": "code",
   "execution_count": 8,
   "metadata": {},
   "outputs": [
    {
     "name": "stderr",
     "output_type": "stream",
     "text": [
      "Warning message in DESeqDataSet(se, design = design, ignoreRank):\n",
      "“some variables in design formula are characters, converting to factors”\n",
      "estimating size factors\n",
      "\n",
      "estimating dispersions\n",
      "\n",
      "gene-wise dispersion estimates\n",
      "\n",
      "mean-dispersion relationship\n",
      "\n",
      "final dispersion estimates\n",
      "\n",
      "fitting model and testing\n",
      "\n",
      "-- replacing outliers and refitting for 608 genes\n",
      "-- DESeq argument 'minReplicatesForReplace' = 7 \n",
      "-- original counts are preserved in counts(dds)\n",
      "\n",
      "estimating dispersions\n",
      "\n",
      "fitting model and testing\n",
      "\n"
     ]
    }
   ],
   "source": [
    "# Design: Age\n",
    "dds = DESeqDataSetFromMatrix(\n",
    "        countData = counts,\n",
    "        colData = metadata,\n",
    "        design = ~ Age)\n",
    "dge = DESeq(dds, test=\"LRT\", reduced = ~ 1)\n",
    "LRT_res = results(dge, alpha=0.05)\n",
    "nb = get_sign_padj(LRT_res)\n",
    "complexif_stats = complexif_stats %>%\n",
    "    add_row(Design=\"Age\", Reduced=\"1\", Tested=\"Age\", Gene_nb=nb, Gene_perc=100*nb/dim(LRT_res)[1])"
   ]
  },
  {
   "cell_type": "code",
   "execution_count": 9,
   "metadata": {},
   "outputs": [
    {
     "name": "stderr",
     "output_type": "stream",
     "text": [
      "Warning message in DESeqDataSet(se, design = design, ignoreRank):\n",
      "“some variables in design formula are characters, converting to factors”\n",
      "estimating size factors\n",
      "\n",
      "estimating dispersions\n",
      "\n",
      "gene-wise dispersion estimates\n",
      "\n",
      "mean-dispersion relationship\n",
      "\n",
      "final dispersion estimates\n",
      "\n",
      "fitting model and testing\n",
      "\n",
      "-- replacing outliers and refitting for 458 genes\n",
      "-- DESeq argument 'minReplicatesForReplace' = 7 \n",
      "-- original counts are preserved in counts(dds)\n",
      "\n",
      "estimating dispersions\n",
      "\n",
      "fitting model and testing\n",
      "\n"
     ]
    }
   ],
   "source": [
    "# Design: Microbiota + Age\n",
    "dds = DESeqDataSetFromMatrix(\n",
    "        countData = counts,\n",
    "        colData = metadata,\n",
    "        design = ~ Microbiota + Age)\n",
    "dge = DESeq(dds, test=\"LRT\", reduced = ~ Microbiota)\n",
    "LRT_res = results(dge, alpha=0.05)\n",
    "nb = get_sign_padj(LRT_res)\n",
    "complexif_stats = complexif_stats %>%\n",
    "    add_row(Design=\"Microbiota + Age\", Reduced=\"Microbiota\", Tested=\"Age\", Gene_nb=nb, Gene_perc=100*nb/dim(LRT_res)[1])"
   ]
  },
  {
   "cell_type": "code",
   "execution_count": 10,
   "metadata": {},
   "outputs": [
    {
     "name": "stderr",
     "output_type": "stream",
     "text": [
      "Warning message in DESeqDataSet(se, design = design, ignoreRank):\n",
      "“some variables in design formula are characters, converting to factors”\n",
      "estimating size factors\n",
      "\n",
      "estimating dispersions\n",
      "\n",
      "gene-wise dispersion estimates\n",
      "\n",
      "mean-dispersion relationship\n",
      "\n",
      "final dispersion estimates\n",
      "\n",
      "fitting model and testing\n",
      "\n",
      "-- replacing outliers and refitting for 458 genes\n",
      "-- DESeq argument 'minReplicatesForReplace' = 7 \n",
      "-- original counts are preserved in counts(dds)\n",
      "\n",
      "estimating dispersions\n",
      "\n",
      "fitting model and testing\n",
      "\n"
     ]
    }
   ],
   "source": [
    "# Design: Age + Microbiota\n",
    "dds = DESeqDataSetFromMatrix(\n",
    "        countData = counts,\n",
    "        colData = metadata,\n",
    "        design = ~ Age + Microbiota)\n",
    "dge = DESeq(dds, test=\"LRT\", reduced = ~ Age)\n",
    "LRT_res = results(dge, alpha=0.05)\n",
    "nb = get_sign_padj(LRT_res)\n",
    "complexif_stats = complexif_stats %>%\n",
    "    add_row(Design=\"Age + Microbiota\", Reduced=\"Age\", Tested=\"Microbiota\", Gene_nb=nb, Gene_perc=100*nb/dim(LRT_res)[1])"
   ]
  },
  {
   "cell_type": "code",
   "execution_count": 11,
   "metadata": {},
   "outputs": [
    {
     "name": "stderr",
     "output_type": "stream",
     "text": [
      "Warning message in DESeqDataSet(se, design = design, ignoreRank):\n",
      "“some variables in design formula are characters, converting to factors”\n",
      "estimating size factors\n",
      "\n",
      "estimating dispersions\n",
      "\n",
      "gene-wise dispersion estimates\n",
      "\n",
      "mean-dispersion relationship\n",
      "\n",
      "final dispersion estimates\n",
      "\n",
      "fitting model and testing\n",
      "\n",
      "-- replacing outliers and refitting for 318 genes\n",
      "-- DESeq argument 'minReplicatesForReplace' = 7 \n",
      "-- original counts are preserved in counts(dds)\n",
      "\n",
      "estimating dispersions\n",
      "\n",
      "fitting model and testing\n",
      "\n"
     ]
    }
   ],
   "source": [
    "# Design: Microbiota + Age + Microbiota:Age\n",
    "dds = DESeqDataSetFromMatrix(\n",
    "        countData = counts,\n",
    "        colData = metadata,\n",
    "        design = ~ Microbiota + Age + Microbiota:Age)\n",
    "dge = DESeq(dds, test=\"LRT\", reduced = ~ Microbiota + Age)\n",
    "LRT_res = results(dge, alpha=0.05)\n",
    "nb = get_sign_padj(LRT_res)\n",
    "complexif_stats = complexif_stats %>%\n",
    "    add_row(Design=\"Microbiota + Age + Microbiota:Age\", Reduced=\"Microbiota + Age\", Tested=\"Microbiota:Age\", Gene_nb=nb, Gene_perc=100*nb/dim(LRT_res)[1])"
   ]
  },
  {
   "cell_type": "markdown",
   "metadata": {},
   "source": [
    "Genes with a significant p-values (< 0.05) for the Likelihood Ratio Tests "
   ]
  },
  {
   "cell_type": "code",
   "execution_count": 12,
   "metadata": {},
   "outputs": [
    {
     "data": {
      "text/html": [
       "<table class=\"dataframe\">\n",
       "<caption>A tibble: 6 × 5</caption>\n",
       "<thead>\n",
       "\t<tr><th scope=col>Design</th><th scope=col>Reduced</th><th scope=col>Tested</th><th scope=col>Genes with significant LRT adjusted p-value</th><th scope=col>% genes with significant LRT adjusted p-value</th></tr>\n",
       "\t<tr><th scope=col>&lt;chr&gt;</th><th scope=col>&lt;chr&gt;</th><th scope=col>&lt;chr&gt;</th><th scope=col>&lt;dbl&gt;</th><th scope=col>&lt;dbl&gt;</th></tr>\n",
       "</thead>\n",
       "<tbody>\n",
       "\t<tr><td>project                          </td><td>1               </td><td>project       </td><td>7231</td><td>39.9216033</td></tr>\n",
       "\t<tr><td>Microbiota                       </td><td>1               </td><td>Microbiota    </td><td>1025</td><td> 5.6589190</td></tr>\n",
       "\t<tr><td>Age                              </td><td>1               </td><td>Age           </td><td>3174</td><td>17.5233258</td></tr>\n",
       "\t<tr><td>Microbiota + Age                 </td><td>Microbiota      </td><td>Age           </td><td>3218</td><td>17.7662452</td></tr>\n",
       "\t<tr><td>Age + Microbiota                 </td><td>Age             </td><td>Microbiota    </td><td>1234</td><td> 6.8127864</td></tr>\n",
       "\t<tr><td>Microbiota + Age + Microbiota:Age</td><td>Microbiota + Age</td><td>Microbiota:Age</td><td> 152</td><td> 0.8391763</td></tr>\n",
       "</tbody>\n",
       "</table>\n"
      ],
      "text/latex": [
       "A tibble: 6 × 5\n",
       "\\begin{tabular}{lllll}\n",
       " Design & Reduced & Tested & Genes with significant LRT adjusted p-value & \\% genes with significant LRT adjusted p-value\\\\\n",
       " <chr> & <chr> & <chr> & <dbl> & <dbl>\\\\\n",
       "\\hline\n",
       "\t project                           & 1                & project        & 7231 & 39.9216033\\\\\n",
       "\t Microbiota                        & 1                & Microbiota     & 1025 &  5.6589190\\\\\n",
       "\t Age                               & 1                & Age            & 3174 & 17.5233258\\\\\n",
       "\t Microbiota + Age                  & Microbiota       & Age            & 3218 & 17.7662452\\\\\n",
       "\t Age + Microbiota                  & Age              & Microbiota     & 1234 &  6.8127864\\\\\n",
       "\t Microbiota + Age + Microbiota:Age & Microbiota + Age & Microbiota:Age &  152 &  0.8391763\\\\\n",
       "\\end{tabular}\n"
      ],
      "text/markdown": [
       "\n",
       "A tibble: 6 × 5\n",
       "\n",
       "| Design &lt;chr&gt; | Reduced &lt;chr&gt; | Tested &lt;chr&gt; | Genes with significant LRT adjusted p-value &lt;dbl&gt; | % genes with significant LRT adjusted p-value &lt;dbl&gt; |\n",
       "|---|---|---|---|---|\n",
       "| project                           | 1                | project        | 7231 | 39.9216033 |\n",
       "| Microbiota                        | 1                | Microbiota     | 1025 |  5.6589190 |\n",
       "| Age                               | 1                | Age            | 3174 | 17.5233258 |\n",
       "| Microbiota + Age                  | Microbiota       | Age            | 3218 | 17.7662452 |\n",
       "| Age + Microbiota                  | Age              | Microbiota     | 1234 |  6.8127864 |\n",
       "| Microbiota + Age + Microbiota:Age | Microbiota + Age | Microbiota:Age |  152 |  0.8391763 |\n",
       "\n"
      ],
      "text/plain": [
       "  Design                            Reduced          Tested        \n",
       "1 project                           1                project       \n",
       "2 Microbiota                        1                Microbiota    \n",
       "3 Age                               1                Age           \n",
       "4 Microbiota + Age                  Microbiota       Age           \n",
       "5 Age + Microbiota                  Age              Microbiota    \n",
       "6 Microbiota + Age + Microbiota:Age Microbiota + Age Microbiota:Age\n",
       "  Genes with significant LRT adjusted p-value\n",
       "1 7231                                       \n",
       "2 1025                                       \n",
       "3 3174                                       \n",
       "4 3218                                       \n",
       "5 1234                                       \n",
       "6  152                                       \n",
       "  % genes with significant LRT adjusted p-value\n",
       "1 39.9216033                                   \n",
       "2  5.6589190                                   \n",
       "3 17.5233258                                   \n",
       "4 17.7662452                                   \n",
       "5  6.8127864                                   \n",
       "6  0.8391763                                   "
      ]
     },
     "metadata": {},
     "output_type": "display_data"
    }
   ],
   "source": [
    "complexif_stats %>%\n",
    "    rename('Genes with significant LRT adjusted p-value' = Gene_nb) %>%\n",
    "    rename('% genes with significant LRT adjusted p-value' = Gene_perc)"
   ]
  },
  {
   "cell_type": "markdown",
   "metadata": {},
   "source": [
    "Percentage of variables' effect on transcriptomic profile"
   ]
  },
  {
   "cell_type": "code",
   "execution_count": 13,
   "metadata": {},
   "outputs": [
    {
     "name": "stderr",
     "output_type": "stream",
     "text": [
      "Warning message:\n",
      "“`funs()` was deprecated in dplyr 0.8.0.\n",
      "Please use a list of either functions or lambdas: \n",
      "\n",
      "  # Simple named list: \n",
      "  list(mean = mean, median = median)\n",
      "\n",
      "  # Auto named with `tibble::lst()`: \n",
      "  tibble::lst(mean, median)\n",
      "\n",
      "  # Using lambdas\n",
      "  list(~ mean(., trim = .2), ~ median(., na.rm = TRUE))\n",
      "\u001b[90mThis warning is displayed once every 8 hours.\u001b[39m\n",
      "\u001b[90mCall `lifecycle::last_lifecycle_warnings()` to see where this warning was generated.\u001b[39m”\n"
     ]
    },
    {
     "data": {
      "text/html": [
       "<table class=\"dataframe\">\n",
       "<caption>A tibble: 4 × 3</caption>\n",
       "<thead>\n",
       "\t<tr><th scope=col>Tested</th><th scope=col>min</th><th scope=col>max</th></tr>\n",
       "\t<tr><th scope=col>&lt;chr&gt;</th><th scope=col>&lt;dbl&gt;</th><th scope=col>&lt;dbl&gt;</th></tr>\n",
       "</thead>\n",
       "<tbody>\n",
       "\t<tr><td>Age           </td><td>17.5233258</td><td>17.7662452</td></tr>\n",
       "\t<tr><td>Microbiota    </td><td> 5.6589190</td><td> 6.8127864</td></tr>\n",
       "\t<tr><td>Microbiota:Age</td><td> 0.8391763</td><td> 0.8391763</td></tr>\n",
       "\t<tr><td>project       </td><td>39.9216033</td><td>39.9216033</td></tr>\n",
       "</tbody>\n",
       "</table>\n"
      ],
      "text/latex": [
       "A tibble: 4 × 3\n",
       "\\begin{tabular}{lll}\n",
       " Tested & min & max\\\\\n",
       " <chr> & <dbl> & <dbl>\\\\\n",
       "\\hline\n",
       "\t Age            & 17.5233258 & 17.7662452\\\\\n",
       "\t Microbiota     &  5.6589190 &  6.8127864\\\\\n",
       "\t Microbiota:Age &  0.8391763 &  0.8391763\\\\\n",
       "\t project        & 39.9216033 & 39.9216033\\\\\n",
       "\\end{tabular}\n"
      ],
      "text/markdown": [
       "\n",
       "A tibble: 4 × 3\n",
       "\n",
       "| Tested &lt;chr&gt; | min &lt;dbl&gt; | max &lt;dbl&gt; |\n",
       "|---|---|---|\n",
       "| Age            | 17.5233258 | 17.7662452 |\n",
       "| Microbiota     |  5.6589190 |  6.8127864 |\n",
       "| Microbiota:Age |  0.8391763 |  0.8391763 |\n",
       "| project        | 39.9216033 | 39.9216033 |\n",
       "\n"
      ],
      "text/plain": [
       "  Tested         min        max       \n",
       "1 Age            17.5233258 17.7662452\n",
       "2 Microbiota      5.6589190  6.8127864\n",
       "3 Microbiota:Age  0.8391763  0.8391763\n",
       "4 project        39.9216033 39.9216033"
      ]
     },
     "metadata": {},
     "output_type": "display_data"
    }
   ],
   "source": [
    "complexif_stats %>%\n",
    "    group_by(Tested) %>%\n",
    "    select(c(Tested, Gene_perc)) %>%\n",
    "    summarise_all(funs(min(.),max(.)))"
   ]
  },
  {
   "cell_type": "markdown",
   "metadata": {},
   "source": [
    "Factor | Percentage of genes with LRT adjusted p-value < 0.05\n",
    "--- | ---\n",
    "Age | 17.53% - 17.69%\n",
    "Microbiota | 5.66% - 6.81%\n",
    "Microbiota:Age | 0.84%"
   ]
  },
  {
   "cell_type": "markdown",
   "metadata": {},
   "source": [
    "# Build the DESeqDataSetFromMatrix object"
   ]
  },
  {
   "cell_type": "markdown",
   "metadata": {},
   "source": [
    "Construct DESeqDataSet and organize levels of the factors (8w being the reference)"
   ]
  },
  {
   "cell_type": "code",
   "execution_count": 14,
   "metadata": {
    "scrolled": false
   },
   "outputs": [
    {
     "name": "stderr",
     "output_type": "stream",
     "text": [
      "Warning message in DESeqDataSet(se, design = design, ignoreRank):\n",
      "“some variables in design formula are characters, converting to factors”\n"
     ]
    }
   ],
   "source": [
    "dds = DESeqDataSetFromMatrix(\n",
    "        countData = counts,\n",
    "        colData = metadata,\n",
    "        design = ~ Microbiota + Age + Microbiota:Age)\n",
    "dds$Age = relevel(dds$Age, ref=\"Young\")\n",
    "dds$Microbiota = relevel(dds$Microbiota, ref=\"SPF\")"
   ]
  },
  {
   "cell_type": "markdown",
   "metadata": {},
   "source": [
    "# Exploratory analysis and visualization"
   ]
  },
  {
   "cell_type": "markdown",
   "metadata": {},
   "source": [
    "We use here the variance stabilizing transformation "
   ]
  },
  {
   "cell_type": "code",
   "execution_count": 15,
   "metadata": {},
   "outputs": [],
   "source": [
    "vsd = vst(dds, blind = FALSE)"
   ]
  },
  {
   "cell_type": "markdown",
   "metadata": {},
   "source": [
    "Distances between the samples"
   ]
  },
  {
   "cell_type": "code",
   "execution_count": 16,
   "metadata": {},
   "outputs": [
    {
     "data": {
      "image/png": "[encoded data removed]",
      "text/plain": [
       "plot without title"
      ]
     },
     "metadata": {
      "image/png": {
       "height": 420,
       "width": 420
      }
     },
     "output_type": "display_data"
    }
   ],
   "source": [
    "sampleDists = dist(t(assay(vsd)))\n",
    "sampleDistMatrix = as.matrix( sampleDists )\n",
    "colnames(sampleDistMatrix) = NULL\n",
    "colors = colorRampPalette( rev(brewer.pal(9, \"Blues\")) )(255)\n",
    "pheatmap(sampleDistMatrix,\n",
    "         clustering_distance_rows = sampleDists,\n",
    "         clustering_distance_cols = sampleDists,\n",
    "         col = colors,\n",
    "         fontsize = 6)"
   ]
  },
  {
   "cell_type": "markdown",
   "metadata": {},
   "source": [
    "PCA plot "
   ]
  },
  {
   "cell_type": "code",
   "execution_count": 17,
   "metadata": {
    "scrolled": false
   },
   "outputs": [
    {
     "data": {
      "image/png": "[encoded data removed]",
      "text/plain": [
       "plot without title"
      ]
     },
     "metadata": {
      "image/png": {
       "height": 420,
       "width": 420
      }
     },
     "output_type": "display_data"
    },
    {
     "data": {
      "image/png": "[encoded data removed]",
      "text/plain": [
       "plot without title"
      ]
     },
     "metadata": {
      "image/png": {
       "height": 420,
       "width": 420
      }
     },
     "output_type": "display_data"
    }
   ],
   "source": [
    "pcaData = plotPCA(vsd, intgroup = c(\"Microbiota\", \"Age\"), returnData = TRUE)\n",
    "percentVar = round(100 * attr(pcaData, \"percentVar\"))\n",
    "ggplot(pcaData, aes(x = PC1, y = PC2, color = Age, shape = Microbiota)) +\n",
    "  geom_point(size =3) +\n",
    "  xlab(paste0(\"PC1: \", percentVar[1], \"% variance\")) +\n",
    "  ylab(paste0(\"PC2: \", percentVar[2], \"% variance\")) +\n",
    "  coord_fixed()\n",
    "ggplot(pcaData, aes(x = PC1, y = PC2, color = Microbiota, shape = Age)) +\n",
    "  geom_point(size =3) +\n",
    "  xlab(paste0(\"PC1: \", percentVar[1], \"% variance\")) +\n",
    "  ylab(paste0(\"PC2: \", percentVar[2], \"% variance\")) +\n",
    "  coord_fixed()"
   ]
  },
  {
   "cell_type": "markdown",
   "metadata": {},
   "source": [
    "Batch effect"
   ]
  },
  {
   "cell_type": "code",
   "execution_count": 18,
   "metadata": {},
   "outputs": [
    {
     "data": {
      "image/png": "[encoded data removed]",
      "text/plain": [
       "plot without title"
      ]
     },
     "metadata": {
      "image/png": {
       "height": 420,
       "width": 420
      }
     },
     "output_type": "display_data"
    }
   ],
   "source": [
    "plotPCA(vsd, intgroup = \"project\")"
   ]
  },
  {
   "cell_type": "markdown",
   "metadata": {},
   "source": [
    "# Differential expression analysis"
   ]
  },
  {
   "cell_type": "code",
   "execution_count": 19,
   "metadata": {},
   "outputs": [
    {
     "name": "stderr",
     "output_type": "stream",
     "text": [
      "estimating size factors\n",
      "\n",
      "estimating dispersions\n",
      "\n",
      "gene-wise dispersion estimates\n",
      "\n",
      "mean-dispersion relationship\n",
      "\n",
      "final dispersion estimates\n",
      "\n",
      "fitting model and testing\n",
      "\n",
      "-- replacing outliers and refitting for 315 genes\n",
      "-- DESeq argument 'minReplicatesForReplace' = 7 \n",
      "-- original counts are preserved in counts(dds)\n",
      "\n",
      "estimating dispersions\n",
      "\n",
      "fitting model and testing\n",
      "\n"
     ]
    }
   ],
   "source": [
    "dge = DESeq(dds)\n",
    "save(dge, file = paste(dp, \"dge.RData\", sep=''))"
   ]
  },
  {
   "cell_type": "markdown",
   "metadata": {},
   "source": [
    "Extract and save the normalized counts"
   ]
  },
  {
   "cell_type": "code",
   "execution_count": 20,
   "metadata": {},
   "outputs": [],
   "source": [
    "norm_counts = counts(dge, normalized = TRUE)\n",
    "save(norm_counts, file=paste(dp, \"norm_counts.RData\", sep=''))\n",
    "write.table(norm_counts, paste(dp, \"norm_counts\", sep=''), sep = \"\\t\", quote = FALSE)"
   ]
  },
  {
   "cell_type": "markdown",
   "metadata": {},
   "source": [
    "Extract and save the Z-scores"
   ]
  },
  {
   "cell_type": "code",
   "execution_count": 21,
   "metadata": {
    "scrolled": false
   },
   "outputs": [],
   "source": [
    "mean_counts = apply(norm_counts, 1, mean)\n",
    "sd_counts = apply(norm_counts, 1, sd)\n",
    "z_scores = (norm_counts - mean_counts)/sd_counts\n",
    "save(z_scores, file=paste(dp, \"z_scores.RData\", sep=''))\n",
    "write.table(z_scores, paste(dp, \"z_scores\", sep=''), sep = \"\\t\", quote = FALSE)"
   ]
  },
  {
   "cell_type": "markdown",
   "metadata": {},
   "source": [
    "Extract some statistics about the Z-scores\n",
    "1. Full dimension of Z-scores matrix\n",
    "2. Z-score higher than 3.5 or smaller than -3.5\n",
    "3. Percentage of Z-score higher than 3.5 or smaller than -3.5"
   ]
  },
  {
   "cell_type": "code",
   "execution_count": 22,
   "metadata": {
    "scrolled": false
   },
   "outputs": [
    {
     "data": {
      "text/html": [
       "<style>\n",
       ".list-inline {list-style: none; margin:0; padding: 0}\n",
       ".list-inline>li {display: inline-block}\n",
       ".list-inline>li:not(:last-child)::after {content: \"\\00b7\"; padding: 0 .5ex}\n",
       "</style>\n",
       "<ol class=list-inline><li>18113</li><li>26</li></ol>\n"
      ],
      "text/latex": [
       "\\begin{enumerate*}\n",
       "\\item 18113\n",
       "\\item 26\n",
       "\\end{enumerate*}\n"
      ],
      "text/markdown": [
       "1. 18113\n",
       "2. 26\n",
       "\n",
       "\n"
      ],
      "text/plain": [
       "[1] 18113    26"
      ]
     },
     "metadata": {},
     "output_type": "display_data"
    },
    {
     "data": {
      "text/html": [
       "<table class=\"dataframe\">\n",
       "<caption>A matrix: 2 × 26 of type int</caption>\n",
       "<thead>\n",
       "\t<tr><th></th><th scope=col>GF_104w_M_1_2</th><th scope=col>GF_104w_M_2_2</th><th scope=col>GF_104w_M_3_2</th><th scope=col>GF_104w_M_4_2</th><th scope=col>GF_104w_M_5_2</th><th scope=col>GF_8w_M_1_2</th><th scope=col>GF_8w_M_2_2</th><th scope=col>GF_8w_M_3_2</th><th scope=col>GF_8w_M_4_2</th><th scope=col>SPF_104w_M_1_2</th><th scope=col>⋯</th><th scope=col>SPF_104w_M_3_2</th><th scope=col>SPF_104w_M_4_2</th><th scope=col>SPF_104w_M_5_2</th><th scope=col>SPF_104w_M_6_2</th><th scope=col>SPF_104w_M_7_2</th><th scope=col>SPF_104w_M_8_2</th><th scope=col>SPF_104w_M_9_2</th><th scope=col>SPF_8w_M_2_2</th><th scope=col>SPF_8w_M_3_2</th><th scope=col>SPF_8w_M_4_2</th></tr>\n",
       "</thead>\n",
       "<tbody>\n",
       "\t<tr><th scope=row>z_scores...3.5</th><td>147</td><td>195</td><td>161</td><td>149</td><td>166</td><td>325</td><td>272</td><td>229</td><td>91</td><td>245</td><td>⋯</td><td>138</td><td>219</td><td>96</td><td>259</td><td>101</td><td>143</td><td>103</td><td>270</td><td>281</td><td>114</td></tr>\n",
       "\t<tr><th scope=row>z_scores....3.5</th><td>  0</td><td>  0</td><td>  0</td><td>  0</td><td>  0</td><td>  0</td><td>  0</td><td>  0</td><td> 0</td><td>  0</td><td>⋯</td><td>  0</td><td>  0</td><td> 0</td><td>  0</td><td>  0</td><td>  0</td><td>  0</td><td>  0</td><td>  0</td><td>  0</td></tr>\n",
       "</tbody>\n",
       "</table>\n"
      ],
      "text/latex": [
       "A matrix: 2 × 26 of type int\n",
       "\\begin{tabular}{r|lllllllllllllllllllll}\n",
       "  & GF\\_104w\\_M\\_1\\_2 & GF\\_104w\\_M\\_2\\_2 & GF\\_104w\\_M\\_3\\_2 & GF\\_104w\\_M\\_4\\_2 & GF\\_104w\\_M\\_5\\_2 & GF\\_8w\\_M\\_1\\_2 & GF\\_8w\\_M\\_2\\_2 & GF\\_8w\\_M\\_3\\_2 & GF\\_8w\\_M\\_4\\_2 & SPF\\_104w\\_M\\_1\\_2 & ⋯ & SPF\\_104w\\_M\\_3\\_2 & SPF\\_104w\\_M\\_4\\_2 & SPF\\_104w\\_M\\_5\\_2 & SPF\\_104w\\_M\\_6\\_2 & SPF\\_104w\\_M\\_7\\_2 & SPF\\_104w\\_M\\_8\\_2 & SPF\\_104w\\_M\\_9\\_2 & SPF\\_8w\\_M\\_2\\_2 & SPF\\_8w\\_M\\_3\\_2 & SPF\\_8w\\_M\\_4\\_2\\\\\n",
       "\\hline\n",
       "\tz\\_scores...3.5 & 147 & 195 & 161 & 149 & 166 & 325 & 272 & 229 & 91 & 245 & ⋯ & 138 & 219 & 96 & 259 & 101 & 143 & 103 & 270 & 281 & 114\\\\\n",
       "\tz\\_scores....3.5 &   0 &   0 &   0 &   0 &   0 &   0 &   0 &   0 &  0 &   0 & ⋯ &   0 &   0 &  0 &   0 &   0 &   0 &   0 &   0 &   0 &   0\\\\\n",
       "\\end{tabular}\n"
      ],
      "text/markdown": [
       "\n",
       "A matrix: 2 × 26 of type int\n",
       "\n",
       "| <!--/--> | GF_104w_M_1_2 | GF_104w_M_2_2 | GF_104w_M_3_2 | GF_104w_M_4_2 | GF_104w_M_5_2 | GF_8w_M_1_2 | GF_8w_M_2_2 | GF_8w_M_3_2 | GF_8w_M_4_2 | SPF_104w_M_1_2 | ⋯ | SPF_104w_M_3_2 | SPF_104w_M_4_2 | SPF_104w_M_5_2 | SPF_104w_M_6_2 | SPF_104w_M_7_2 | SPF_104w_M_8_2 | SPF_104w_M_9_2 | SPF_8w_M_2_2 | SPF_8w_M_3_2 | SPF_8w_M_4_2 |\n",
       "|---|---|---|---|---|---|---|---|---|---|---|---|---|---|---|---|---|---|---|---|---|---|\n",
       "| z_scores...3.5 | 147 | 195 | 161 | 149 | 166 | 325 | 272 | 229 | 91 | 245 | ⋯ | 138 | 219 | 96 | 259 | 101 | 143 | 103 | 270 | 281 | 114 |\n",
       "| z_scores....3.5 |   0 |   0 |   0 |   0 |   0 |   0 |   0 |   0 |  0 |   0 | ⋯ |   0 |   0 |  0 |   0 |   0 |   0 |   0 |   0 |   0 |   0 |\n",
       "\n"
      ],
      "text/plain": [
       "                GF_104w_M_1_2 GF_104w_M_2_2 GF_104w_M_3_2 GF_104w_M_4_2\n",
       "z_scores...3.5  147           195           161           149          \n",
       "z_scores....3.5   0             0             0             0          \n",
       "                GF_104w_M_5_2 GF_8w_M_1_2 GF_8w_M_2_2 GF_8w_M_3_2 GF_8w_M_4_2\n",
       "z_scores...3.5  166           325         272         229         91         \n",
       "z_scores....3.5   0             0           0           0          0         \n",
       "                SPF_104w_M_1_2 ⋯ SPF_104w_M_3_2 SPF_104w_M_4_2 SPF_104w_M_5_2\n",
       "z_scores...3.5  245            ⋯ 138            219            96            \n",
       "z_scores....3.5   0            ⋯   0              0             0            \n",
       "                SPF_104w_M_6_2 SPF_104w_M_7_2 SPF_104w_M_8_2 SPF_104w_M_9_2\n",
       "z_scores...3.5  259            101            143            103           \n",
       "z_scores....3.5   0              0              0              0           \n",
       "                SPF_8w_M_2_2 SPF_8w_M_3_2 SPF_8w_M_4_2\n",
       "z_scores...3.5  270          281          114         \n",
       "z_scores....3.5   0            0            0         "
      ]
     },
     "metadata": {},
     "output_type": "display_data"
    },
    {
     "data": {
      "text/html": [
       "<table class=\"dataframe\">\n",
       "<caption>A matrix: 2 × 26 of type dbl</caption>\n",
       "<thead>\n",
       "\t<tr><th></th><th scope=col>GF_104w_M_1_2</th><th scope=col>GF_104w_M_2_2</th><th scope=col>GF_104w_M_3_2</th><th scope=col>GF_104w_M_4_2</th><th scope=col>GF_104w_M_5_2</th><th scope=col>GF_8w_M_1_2</th><th scope=col>GF_8w_M_2_2</th><th scope=col>GF_8w_M_3_2</th><th scope=col>GF_8w_M_4_2</th><th scope=col>SPF_104w_M_1_2</th><th scope=col>⋯</th><th scope=col>SPF_104w_M_3_2</th><th scope=col>SPF_104w_M_4_2</th><th scope=col>SPF_104w_M_5_2</th><th scope=col>SPF_104w_M_6_2</th><th scope=col>SPF_104w_M_7_2</th><th scope=col>SPF_104w_M_8_2</th><th scope=col>SPF_104w_M_9_2</th><th scope=col>SPF_8w_M_2_2</th><th scope=col>SPF_8w_M_3_2</th><th scope=col>SPF_8w_M_4_2</th></tr>\n",
       "</thead>\n",
       "<tbody>\n",
       "\t<tr><th scope=row>z_scores...3.5</th><td>0.8115718</td><td>1.076575</td><td>0.8888644</td><td>0.8226136</td><td>0.9164688</td><td>1.794291</td><td>1.501684</td><td>1.264285</td><td>0.5024016</td><td>1.35262</td><td>⋯</td><td>0.7618837</td><td>1.209076</td><td>0.5300061</td><td>1.429912</td><td>0.5576106</td><td>0.7894882</td><td>0.5686523</td><td>1.490642</td><td>1.551372</td><td>0.6293822</td></tr>\n",
       "\t<tr><th scope=row>z_scores....3.5</th><td>0.0000000</td><td>0.000000</td><td>0.0000000</td><td>0.0000000</td><td>0.0000000</td><td>0.000000</td><td>0.000000</td><td>0.000000</td><td>0.0000000</td><td>0.00000</td><td>⋯</td><td>0.0000000</td><td>0.000000</td><td>0.0000000</td><td>0.000000</td><td>0.0000000</td><td>0.0000000</td><td>0.0000000</td><td>0.000000</td><td>0.000000</td><td>0.0000000</td></tr>\n",
       "</tbody>\n",
       "</table>\n"
      ],
      "text/latex": [
       "A matrix: 2 × 26 of type dbl\n",
       "\\begin{tabular}{r|lllllllllllllllllllll}\n",
       "  & GF\\_104w\\_M\\_1\\_2 & GF\\_104w\\_M\\_2\\_2 & GF\\_104w\\_M\\_3\\_2 & GF\\_104w\\_M\\_4\\_2 & GF\\_104w\\_M\\_5\\_2 & GF\\_8w\\_M\\_1\\_2 & GF\\_8w\\_M\\_2\\_2 & GF\\_8w\\_M\\_3\\_2 & GF\\_8w\\_M\\_4\\_2 & SPF\\_104w\\_M\\_1\\_2 & ⋯ & SPF\\_104w\\_M\\_3\\_2 & SPF\\_104w\\_M\\_4\\_2 & SPF\\_104w\\_M\\_5\\_2 & SPF\\_104w\\_M\\_6\\_2 & SPF\\_104w\\_M\\_7\\_2 & SPF\\_104w\\_M\\_8\\_2 & SPF\\_104w\\_M\\_9\\_2 & SPF\\_8w\\_M\\_2\\_2 & SPF\\_8w\\_M\\_3\\_2 & SPF\\_8w\\_M\\_4\\_2\\\\\n",
       "\\hline\n",
       "\tz\\_scores...3.5 & 0.8115718 & 1.076575 & 0.8888644 & 0.8226136 & 0.9164688 & 1.794291 & 1.501684 & 1.264285 & 0.5024016 & 1.35262 & ⋯ & 0.7618837 & 1.209076 & 0.5300061 & 1.429912 & 0.5576106 & 0.7894882 & 0.5686523 & 1.490642 & 1.551372 & 0.6293822\\\\\n",
       "\tz\\_scores....3.5 & 0.0000000 & 0.000000 & 0.0000000 & 0.0000000 & 0.0000000 & 0.000000 & 0.000000 & 0.000000 & 0.0000000 & 0.00000 & ⋯ & 0.0000000 & 0.000000 & 0.0000000 & 0.000000 & 0.0000000 & 0.0000000 & 0.0000000 & 0.000000 & 0.000000 & 0.0000000\\\\\n",
       "\\end{tabular}\n"
      ],
      "text/markdown": [
       "\n",
       "A matrix: 2 × 26 of type dbl\n",
       "\n",
       "| <!--/--> | GF_104w_M_1_2 | GF_104w_M_2_2 | GF_104w_M_3_2 | GF_104w_M_4_2 | GF_104w_M_5_2 | GF_8w_M_1_2 | GF_8w_M_2_2 | GF_8w_M_3_2 | GF_8w_M_4_2 | SPF_104w_M_1_2 | ⋯ | SPF_104w_M_3_2 | SPF_104w_M_4_2 | SPF_104w_M_5_2 | SPF_104w_M_6_2 | SPF_104w_M_7_2 | SPF_104w_M_8_2 | SPF_104w_M_9_2 | SPF_8w_M_2_2 | SPF_8w_M_3_2 | SPF_8w_M_4_2 |\n",
       "|---|---|---|---|---|---|---|---|---|---|---|---|---|---|---|---|---|---|---|---|---|---|\n",
       "| z_scores...3.5 | 0.8115718 | 1.076575 | 0.8888644 | 0.8226136 | 0.9164688 | 1.794291 | 1.501684 | 1.264285 | 0.5024016 | 1.35262 | ⋯ | 0.7618837 | 1.209076 | 0.5300061 | 1.429912 | 0.5576106 | 0.7894882 | 0.5686523 | 1.490642 | 1.551372 | 0.6293822 |\n",
       "| z_scores....3.5 | 0.0000000 | 0.000000 | 0.0000000 | 0.0000000 | 0.0000000 | 0.000000 | 0.000000 | 0.000000 | 0.0000000 | 0.00000 | ⋯ | 0.0000000 | 0.000000 | 0.0000000 | 0.000000 | 0.0000000 | 0.0000000 | 0.0000000 | 0.000000 | 0.000000 | 0.0000000 |\n",
       "\n"
      ],
      "text/plain": [
       "                GF_104w_M_1_2 GF_104w_M_2_2 GF_104w_M_3_2 GF_104w_M_4_2\n",
       "z_scores...3.5  0.8115718     1.076575      0.8888644     0.8226136    \n",
       "z_scores....3.5 0.0000000     0.000000      0.0000000     0.0000000    \n",
       "                GF_104w_M_5_2 GF_8w_M_1_2 GF_8w_M_2_2 GF_8w_M_3_2 GF_8w_M_4_2\n",
       "z_scores...3.5  0.9164688     1.794291    1.501684    1.264285    0.5024016  \n",
       "z_scores....3.5 0.0000000     0.000000    0.000000    0.000000    0.0000000  \n",
       "                SPF_104w_M_1_2 ⋯ SPF_104w_M_3_2 SPF_104w_M_4_2 SPF_104w_M_5_2\n",
       "z_scores...3.5  1.35262        ⋯ 0.7618837      1.209076       0.5300061     \n",
       "z_scores....3.5 0.00000        ⋯ 0.0000000      0.000000       0.0000000     \n",
       "                SPF_104w_M_6_2 SPF_104w_M_7_2 SPF_104w_M_8_2 SPF_104w_M_9_2\n",
       "z_scores...3.5  1.429912       0.5576106      0.7894882      0.5686523     \n",
       "z_scores....3.5 0.000000       0.0000000      0.0000000      0.0000000     \n",
       "                SPF_8w_M_2_2 SPF_8w_M_3_2 SPF_8w_M_4_2\n",
       "z_scores...3.5  1.490642     1.551372     0.6293822   \n",
       "z_scores....3.5 0.000000     0.000000     0.0000000   "
      ]
     },
     "metadata": {},
     "output_type": "display_data"
    },
    {
     "data": {
      "text/html": [
       "<table class=\"dataframe\">\n",
       "<caption>A data.frame: 2 × 3</caption>\n",
       "<thead>\n",
       "\t<tr><th></th><th scope=col>number</th><th scope=col>minimum_percentage</th><th scope=col>maximum_percentage</th></tr>\n",
       "\t<tr><th></th><th scope=col>&lt;int&gt;</th><th scope=col>&lt;dbl&gt;</th><th scope=col>&lt;dbl&gt;</th></tr>\n",
       "</thead>\n",
       "<tbody>\n",
       "\t<tr><th scope=row>z_scores &gt; 3.5</th><td>4380</td><td>0.4471926</td><td>1.794291</td></tr>\n",
       "\t<tr><th scope=row>z_scores &lt; -3.5</th><td>   0</td><td>0.0000000</td><td>0.000000</td></tr>\n",
       "</tbody>\n",
       "</table>\n"
      ],
      "text/latex": [
       "A data.frame: 2 × 3\n",
       "\\begin{tabular}{r|lll}\n",
       "  & number & minimum\\_percentage & maximum\\_percentage\\\\\n",
       "  & <int> & <dbl> & <dbl>\\\\\n",
       "\\hline\n",
       "\tz\\_scores > 3.5 & 4380 & 0.4471926 & 1.794291\\\\\n",
       "\tz\\_scores < -3.5 &    0 & 0.0000000 & 0.000000\\\\\n",
       "\\end{tabular}\n"
      ],
      "text/markdown": [
       "\n",
       "A data.frame: 2 × 3\n",
       "\n",
       "| <!--/--> | number &lt;int&gt; | minimum_percentage &lt;dbl&gt; | maximum_percentage &lt;dbl&gt; |\n",
       "|---|---|---|---|\n",
       "| z_scores &gt; 3.5 | 4380 | 0.4471926 | 1.794291 |\n",
       "| z_scores &lt; -3.5 |    0 | 0.0000000 | 0.000000 |\n",
       "\n"
      ],
      "text/plain": [
       "                number minimum_percentage maximum_percentage\n",
       "z_scores > 3.5  4380   0.4471926          1.794291          \n",
       "z_scores < -3.5    0   0.0000000          0.000000          "
      ]
     },
     "metadata": {},
     "output_type": "display_data"
    }
   ],
   "source": [
    "dim(z_scores)\n",
    "# z_score higher than 3.5 or smaller than -3.5\n",
    "s = data.frame(\"z_scores > 3.5\" = apply(z_scores > 3.5, 2, sum, na.rm = T), \"z_scores < -3.5\" = apply(z_scores < -3.5, 2, sum, na.rm = T))\n",
    "t(s)\n",
    "s_perc = 100 * s/dim(norm_counts)[1]\n",
    "t(s_perc)\n",
    "data.frame(number = apply(s,2,sum),\n",
    "           minimum_percentage = apply(s_perc,2,min),\n",
    "           maximum_percentage = apply(s_perc,2,max),\n",
    "           row.names = c(\"z_scores > 3.5\", \"z_scores < -3.5\"))"
   ]
  },
  {
   "cell_type": "markdown",
   "metadata": {},
   "source": [
    "Contrasts (factors)"
   ]
  },
  {
   "cell_type": "code",
   "execution_count": 23,
   "metadata": {},
   "outputs": [
    {
     "data": {
      "text/html": [
       "<style>\n",
       ".list-inline {list-style: none; margin:0; padding: 0}\n",
       ".list-inline>li {display: inline-block}\n",
       ".list-inline>li:not(:last-child)::after {content: \"\\00b7\"; padding: 0 .5ex}\n",
       "</style>\n",
       "<ol class=list-inline><li>'Intercept'</li><li>'GF vs SPF'</li><li>'Old vs Young'</li><li>'GF &amp; Old'</li></ol>\n"
      ],
      "text/latex": [
       "\\begin{enumerate*}\n",
       "\\item 'Intercept'\n",
       "\\item 'GF vs SPF'\n",
       "\\item 'Old vs Young'\n",
       "\\item 'GF \\& Old'\n",
       "\\end{enumerate*}\n"
      ],
      "text/markdown": [
       "1. 'Intercept'\n",
       "2. 'GF vs SPF'\n",
       "3. 'Old vs Young'\n",
       "4. 'GF &amp; Old'\n",
       "\n",
       "\n"
      ],
      "text/plain": [
       "[1] \"Intercept\"    \"GF vs SPF\"    \"Old vs Young\" \"GF & Old\"    "
      ]
     },
     "metadata": {},
     "output_type": "display_data"
    }
   ],
   "source": [
    "contrast_names = resultsNames(dge)\n",
    "contrast_names = gsub(\"^(Microbiota|Age)_\", \"\", contrast_names)\n",
    "contrast_names = gsub(\"\\\\.(Microbiota|Age)\", \" & \", contrast_names)\n",
    "contrast_names = gsub(\"(Microbiota|Age)\", \"\", contrast_names)\n",
    "contrast_names = gsub(\"_\", \" \", contrast_names)\n",
    "contrast_names"
   ]
  },
  {
   "cell_type": "code",
   "execution_count": 24,
   "metadata": {
    "scrolled": false
   },
   "outputs": [
    {
     "data": {
      "text/html": [
       "<table class=\"dataframe\">\n",
       "<caption>A data.frame: 4 × 5</caption>\n",
       "<thead>\n",
       "\t<tr><th scope=col>Info</th><th scope=col>Intercept</th><th scope=col>GF vs SPF</th><th scope=col>Old vs Young</th><th scope=col>GF &amp; Old</th></tr>\n",
       "\t<tr><th scope=col>&lt;chr&gt;</th><th scope=col>&lt;chr&gt;</th><th scope=col>&lt;chr&gt;</th><th scope=col>&lt;chr&gt;</th><th scope=col>&lt;chr&gt;</th></tr>\n",
       "</thead>\n",
       "<tbody>\n",
       "\t<tr><td>GF vs SPF (Young) </td><td>0</td><td>1</td><td>0</td><td>0</td></tr>\n",
       "\t<tr><td>GF vs SPF (Old)   </td><td>0</td><td>1</td><td>0</td><td>0</td></tr>\n",
       "\t<tr><td>Old vs Young (SPF)</td><td>0</td><td>0</td><td>1</td><td>0</td></tr>\n",
       "\t<tr><td>Old vs Young (GF) </td><td>0</td><td>0</td><td>1</td><td>1</td></tr>\n",
       "</tbody>\n",
       "</table>\n"
      ],
      "text/latex": [
       "A data.frame: 4 × 5\n",
       "\\begin{tabular}{lllll}\n",
       " Info & Intercept & GF vs SPF & Old vs Young & GF \\& Old\\\\\n",
       " <chr> & <chr> & <chr> & <chr> & <chr>\\\\\n",
       "\\hline\n",
       "\t GF vs SPF (Young)  & 0 & 1 & 0 & 0\\\\\n",
       "\t GF vs SPF (Old)    & 0 & 1 & 0 & 0\\\\\n",
       "\t Old vs Young (SPF) & 0 & 0 & 1 & 0\\\\\n",
       "\t Old vs Young (GF)  & 0 & 0 & 1 & 1\\\\\n",
       "\\end{tabular}\n"
      ],
      "text/markdown": [
       "\n",
       "A data.frame: 4 × 5\n",
       "\n",
       "| Info &lt;chr&gt; | Intercept &lt;chr&gt; | GF vs SPF &lt;chr&gt; | Old vs Young &lt;chr&gt; | GF &amp; Old &lt;chr&gt; |\n",
       "|---|---|---|---|---|\n",
       "| GF vs SPF (Young)  | 0 | 1 | 0 | 0 |\n",
       "| GF vs SPF (Old)    | 0 | 1 | 0 | 0 |\n",
       "| Old vs Young (SPF) | 0 | 0 | 1 | 0 |\n",
       "| Old vs Young (GF)  | 0 | 0 | 1 | 1 |\n",
       "\n"
      ],
      "text/plain": [
       "  Info               Intercept GF vs SPF Old vs Young GF & Old\n",
       "1 GF vs SPF (Young)  0         1         0            0       \n",
       "2 GF vs SPF (Old)    0         1         0            0       \n",
       "3 Old vs Young (SPF) 0         0         1            0       \n",
       "4 Old vs Young (GF)  0         0         1            1       "
      ]
     },
     "metadata": {},
     "output_type": "display_data"
    }
   ],
   "source": [
    "man_contrasts = as.data.frame(matrix(\n",
    "        nrow=0,\n",
    "        ncol=length(contrast_names)+1)) %>%\n",
    "    rbind(c(\"GF vs SPF (Young)\", 0, 1, 0, 0)) %>%\n",
    "    rename_all(funs(c(\"Info\", contrast_names))) %>%\n",
    "    rbind(c(\"GF vs SPF (Old)\", 0, 1, 0, 0)) %>%\n",
    "    rbind(c(\"Old vs Young (SPF)\", 0, 0, 1, 0)) %>%\n",
    "    rbind(c(\"Old vs Young (GF)\", 0, 0, 1, 1))\n",
    "man_contrasts"
   ]
  },
  {
   "cell_type": "code",
   "execution_count": 25,
   "metadata": {},
   "outputs": [
    {
     "data": {
      "text/html": [
       "<dl>\n",
       "\t<dt>$`GF / Young`</dt>\n",
       "\t\t<dd><style>\n",
       ".dl-inline {width: auto; margin:0; padding: 0}\n",
       ".dl-inline>dt, .dl-inline>dd {float: none; width: auto; display: inline-block}\n",
       ".dl-inline>dt::after {content: \":\\0020\"; padding-right: .5ex}\n",
       ".dl-inline>dt:not(:first-of-type) {padding-left: .5ex}\n",
       "</style><dl class=dl-inline><dt>(Intercept)</dt><dd>1</dd><dt>MicrobiotaGF</dt><dd>1</dd><dt>AgeOld</dt><dd>0</dd><dt>MicrobiotaGF:AgeOld</dt><dd>0</dd></dl>\n",
       "</dd>\n",
       "\t<dt>$`SPF / Young`</dt>\n",
       "\t\t<dd><style>\n",
       ".dl-inline {width: auto; margin:0; padding: 0}\n",
       ".dl-inline>dt, .dl-inline>dd {float: none; width: auto; display: inline-block}\n",
       ".dl-inline>dt::after {content: \":\\0020\"; padding-right: .5ex}\n",
       ".dl-inline>dt:not(:first-of-type) {padding-left: .5ex}\n",
       "</style><dl class=dl-inline><dt>(Intercept)</dt><dd>1</dd><dt>MicrobiotaGF</dt><dd>0</dd><dt>AgeOld</dt><dd>0</dd><dt>MicrobiotaGF:AgeOld</dt><dd>0</dd></dl>\n",
       "</dd>\n",
       "\t<dt>$`GF / Old`</dt>\n",
       "\t\t<dd><style>\n",
       ".dl-inline {width: auto; margin:0; padding: 0}\n",
       ".dl-inline>dt, .dl-inline>dd {float: none; width: auto; display: inline-block}\n",
       ".dl-inline>dt::after {content: \":\\0020\"; padding-right: .5ex}\n",
       ".dl-inline>dt:not(:first-of-type) {padding-left: .5ex}\n",
       "</style><dl class=dl-inline><dt>(Intercept)</dt><dd>1</dd><dt>MicrobiotaGF</dt><dd>1</dd><dt>AgeOld</dt><dd>1</dd><dt>MicrobiotaGF:AgeOld</dt><dd>1</dd></dl>\n",
       "</dd>\n",
       "\t<dt>$`SPF / Old`</dt>\n",
       "\t\t<dd><style>\n",
       ".dl-inline {width: auto; margin:0; padding: 0}\n",
       ".dl-inline>dt, .dl-inline>dd {float: none; width: auto; display: inline-block}\n",
       ".dl-inline>dt::after {content: \":\\0020\"; padding-right: .5ex}\n",
       ".dl-inline>dt:not(:first-of-type) {padding-left: .5ex}\n",
       "</style><dl class=dl-inline><dt>(Intercept)</dt><dd>1</dd><dt>MicrobiotaGF</dt><dd>0</dd><dt>AgeOld</dt><dd>1</dd><dt>MicrobiotaGF:AgeOld</dt><dd>0</dd></dl>\n",
       "</dd>\n",
       "</dl>\n"
      ],
      "text/latex": [
       "\\begin{description}\n",
       "\\item[\\$`GF / Young`] \\begin{description*}\n",
       "\\item[(Intercept)] 1\n",
       "\\item[MicrobiotaGF] 1\n",
       "\\item[AgeOld] 0\n",
       "\\item[MicrobiotaGF:AgeOld] 0\n",
       "\\end{description*}\n",
       "\n",
       "\\item[\\$`SPF / Young`] \\begin{description*}\n",
       "\\item[(Intercept)] 1\n",
       "\\item[MicrobiotaGF] 0\n",
       "\\item[AgeOld] 0\n",
       "\\item[MicrobiotaGF:AgeOld] 0\n",
       "\\end{description*}\n",
       "\n",
       "\\item[\\$`GF / Old`] \\begin{description*}\n",
       "\\item[(Intercept)] 1\n",
       "\\item[MicrobiotaGF] 1\n",
       "\\item[AgeOld] 1\n",
       "\\item[MicrobiotaGF:AgeOld] 1\n",
       "\\end{description*}\n",
       "\n",
       "\\item[\\$`SPF / Old`] \\begin{description*}\n",
       "\\item[(Intercept)] 1\n",
       "\\item[MicrobiotaGF] 0\n",
       "\\item[AgeOld] 1\n",
       "\\item[MicrobiotaGF:AgeOld] 0\n",
       "\\end{description*}\n",
       "\n",
       "\\end{description}\n"
      ],
      "text/markdown": [
       "$`GF / Young`\n",
       ":   (Intercept)\n",
       ":   1MicrobiotaGF\n",
       ":   1AgeOld\n",
       ":   0MicrobiotaGF:AgeOld\n",
       ":   0\n",
       "\n",
       "\n",
       "$`SPF / Young`\n",
       ":   (Intercept)\n",
       ":   1MicrobiotaGF\n",
       ":   0AgeOld\n",
       ":   0MicrobiotaGF:AgeOld\n",
       ":   0\n",
       "\n",
       "\n",
       "$`GF / Old`\n",
       ":   (Intercept)\n",
       ":   1MicrobiotaGF\n",
       ":   1AgeOld\n",
       ":   1MicrobiotaGF:AgeOld\n",
       ":   1\n",
       "\n",
       "\n",
       "$`SPF / Old`\n",
       ":   (Intercept)\n",
       ":   1MicrobiotaGF\n",
       ":   0AgeOld\n",
       ":   1MicrobiotaGF:AgeOld\n",
       ":   0\n",
       "\n",
       "\n",
       "\n",
       "\n"
      ],
      "text/plain": [
       "$`GF / Young`\n",
       "        (Intercept)        MicrobiotaGF              AgeOld MicrobiotaGF:AgeOld \n",
       "                  1                   1                   0                   0 \n",
       "\n",
       "$`SPF / Young`\n",
       "        (Intercept)        MicrobiotaGF              AgeOld MicrobiotaGF:AgeOld \n",
       "                  1                   0                   0                   0 \n",
       "\n",
       "$`GF / Old`\n",
       "        (Intercept)        MicrobiotaGF              AgeOld MicrobiotaGF:AgeOld \n",
       "                  1                   1                   1                   1 \n",
       "\n",
       "$`SPF / Old`\n",
       "        (Intercept)        MicrobiotaGF              AgeOld MicrobiotaGF:AgeOld \n",
       "                  1                   0                   1                   0 \n"
      ]
     },
     "metadata": {},
     "output_type": "display_data"
    }
   ],
   "source": [
    "mod_mat = model.matrix(design(dds), colData(dds))\n",
    "coeff_vectors = list(\n",
    "    \"GF / Young\" = colMeans(mod_mat[dds$Microbiota == \"GF\" & dds$Age == \"Young\", ]),\n",
    "    \"SPF / Young\" = colMeans(mod_mat[dds$Microbiota == \"SPF\" & dds$Age == \"Young\", ]),\n",
    "    \"GF / Old\" = colMeans(mod_mat[dds$Microbiota == \"GF\" & dds$Age == \"Old\", ]),\n",
    "    \"SPF / Old\" = colMeans(mod_mat[dds$Microbiota == \"SPF\" & dds$Age == \"Old\", ]))\n",
    "coeff_vectors"
   ]
  },
  {
   "cell_type": "code",
   "execution_count": 26,
   "metadata": {},
   "outputs": [
    {
     "data": {
      "text/html": [
       "<table class=\"dataframe\">\n",
       "<caption>A data.frame: 4 × 5</caption>\n",
       "<thead>\n",
       "\t<tr><th scope=col>Info</th><th scope=col>Intercept</th><th scope=col>GF vs SPF</th><th scope=col>Old vs Young</th><th scope=col>GF &amp; Old</th></tr>\n",
       "\t<tr><th scope=col>&lt;chr&gt;</th><th scope=col>&lt;chr&gt;</th><th scope=col>&lt;chr&gt;</th><th scope=col>&lt;chr&gt;</th><th scope=col>&lt;chr&gt;</th></tr>\n",
       "</thead>\n",
       "<tbody>\n",
       "\t<tr><td>GF vs SPF (Young) </td><td>0</td><td>1</td><td>0</td><td>0</td></tr>\n",
       "\t<tr><td>GF vs SPF (Old)   </td><td>0</td><td>1</td><td>0</td><td>1</td></tr>\n",
       "\t<tr><td>Old vs Young (SPF)</td><td>0</td><td>0</td><td>1</td><td>0</td></tr>\n",
       "\t<tr><td>Old vs Young (GF) </td><td>0</td><td>0</td><td>1</td><td>1</td></tr>\n",
       "</tbody>\n",
       "</table>\n"
      ],
      "text/latex": [
       "A data.frame: 4 × 5\n",
       "\\begin{tabular}{lllll}\n",
       " Info & Intercept & GF vs SPF & Old vs Young & GF \\& Old\\\\\n",
       " <chr> & <chr> & <chr> & <chr> & <chr>\\\\\n",
       "\\hline\n",
       "\t GF vs SPF (Young)  & 0 & 1 & 0 & 0\\\\\n",
       "\t GF vs SPF (Old)    & 0 & 1 & 0 & 1\\\\\n",
       "\t Old vs Young (SPF) & 0 & 0 & 1 & 0\\\\\n",
       "\t Old vs Young (GF)  & 0 & 0 & 1 & 1\\\\\n",
       "\\end{tabular}\n"
      ],
      "text/markdown": [
       "\n",
       "A data.frame: 4 × 5\n",
       "\n",
       "| Info &lt;chr&gt; | Intercept &lt;chr&gt; | GF vs SPF &lt;chr&gt; | Old vs Young &lt;chr&gt; | GF &amp; Old &lt;chr&gt; |\n",
       "|---|---|---|---|---|\n",
       "| GF vs SPF (Young)  | 0 | 1 | 0 | 0 |\n",
       "| GF vs SPF (Old)    | 0 | 1 | 0 | 1 |\n",
       "| Old vs Young (SPF) | 0 | 0 | 1 | 0 |\n",
       "| Old vs Young (GF)  | 0 | 0 | 1 | 1 |\n",
       "\n"
      ],
      "text/plain": [
       "  Info               Intercept GF vs SPF Old vs Young GF & Old\n",
       "1 GF vs SPF (Young)  0         1         0            0       \n",
       "2 GF vs SPF (Old)    0         1         0            1       \n",
       "3 Old vs Young (SPF) 0         0         1            0       \n",
       "4 Old vs Young (GF)  0         0         1            1       "
      ]
     },
     "metadata": {},
     "output_type": "display_data"
    }
   ],
   "source": [
    "contrasts = as.data.frame(matrix(\n",
    "        nrow=0,\n",
    "        ncol=length(contrast_names)+1)) %>%\n",
    "    rbind(c(\"GF vs SPF (Young)\", coeff_vectors[[\"GF / Young\"]] - coeff_vectors[[\"SPF / Young\"]])) %>%\n",
    "    rbind(c(\"GF vs SPF (Old)\", coeff_vectors[[\"GF / Old\"]] - coeff_vectors[[\"SPF / Old\"]])) %>%\n",
    "    rbind(c(\"Old vs Young (SPF)\", coeff_vectors[[\"SPF / Old\"]] - coeff_vectors[[\"SPF / Young\"]])) %>%\n",
    "    rbind(c(\"Old vs Young (GF)\", coeff_vectors[[\"GF / Old\"]] - coeff_vectors[[\"GF / Young\"]])) %>%\n",
    "    rename_all(funs(c(\"Info\", contrast_names)))\n",
    "contrasts\n",
    "save(contrasts, file=paste(dp, \"contrasts.RData\", sep=''))"
   ]
  },
  {
   "cell_type": "markdown",
   "metadata": {},
   "source": [
    "# Citations"
   ]
  },
  {
   "cell_type": "code",
   "execution_count": 27,
   "metadata": {},
   "outputs": [
    {
     "data": {
      "text/plain": [
       "\n",
       "  Love, M.I., Huber, W., Anders, S. Moderated estimation of fold change\n",
       "  and dispersion for RNA-seq data with DESeq2 Genome Biology 15(12):550\n",
       "  (2014)\n",
       "\n",
       "A BibTeX entry for LaTeX users is\n",
       "\n",
       "  @Article{,\n",
       "    title = {Moderated estimation of fold change and dispersion for RNA-seq data with DESeq2},\n",
       "    author = {Michael I. Love and Wolfgang Huber and Simon Anders},\n",
       "    year = {2014},\n",
       "    journal = {Genome Biology},\n",
       "    doi = {10.1186/s13059-014-0550-8},\n",
       "    volume = {15},\n",
       "    issue = {12},\n",
       "    pages = {550},\n",
       "  }\n"
      ]
     },
     "metadata": {},
     "output_type": "display_data"
    }
   ],
   "source": [
    "citation(\"DESeq2\")"
   ]
  }
 ],
 "metadata": {
  "hide_input": true,
  "kernelspec": {
   "display_name": "R",
   "language": "R",
   "name": "ir"
  },
  "language_info": {
   "codemirror_mode": "r",
   "file_extension": ".r",
   "mimetype": "text/x-r-source",
   "name": "R",
   "pygments_lexer": "r",
   "version": "4.1.2"
  },
  "toc": {
   "base_numbering": 1,
   "nav_menu": {
    "height": "530px",
    "width": "568px"
   },
   "number_sections": true,
   "sideBar": true,
   "skip_h1_title": false,
   "title_cell": "Table of Contents",
   "title_sidebar": "Contents",
   "toc_cell": false,
   "toc_position": {
    "height": "921px",
    "left": "0px",
    "right": "1708px",
    "top": "111px",
    "width": "165px"
   },
   "toc_section_display": "block",
   "toc_window_display": true
  }
 },
 "nbformat": 4,
 "nbformat_minor": 1
}
